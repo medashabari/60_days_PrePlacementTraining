{
 "cells": [
  {
   "cell_type": "code",
   "execution_count": 7,
   "id": "81e53f3c",
   "metadata": {},
   "outputs": [],
   "source": [
    "class Employee:\n",
    "    def __init__(self):\n",
    "        print(\"init\")\n",
    "    # before init new is called\n",
    "    def __new__(self):\n",
    "        print('new')"
   ]
  },
  {
   "cell_type": "code",
   "execution_count": 8,
   "id": "1a5a16e6",
   "metadata": {},
   "outputs": [
    {
     "name": "stdout",
     "output_type": "stream",
     "text": [
      "new\n"
     ]
    }
   ],
   "source": [
    "e=Employee()"
   ]
  },
  {
   "cell_type": "code",
   "execution_count": 28,
   "id": "8167f30a",
   "metadata": {},
   "outputs": [],
   "source": [
    "class Employee:\n",
    "    def __init__(self):\n",
    "        print(\"init\")\n",
    "    def __repr__(self):\n",
    "        return \"printed object\""
   ]
  },
  {
   "cell_type": "code",
   "execution_count": 29,
   "id": "27e6648d",
   "metadata": {},
   "outputs": [
    {
     "name": "stdout",
     "output_type": "stream",
     "text": [
      "init\n"
     ]
    }
   ],
   "source": [
    "e=Employee()"
   ]
  },
  {
   "cell_type": "code",
   "execution_count": 30,
   "id": "26b2e15a",
   "metadata": {},
   "outputs": [
    {
     "data": {
      "text/plain": [
       "printed object"
      ]
     },
     "execution_count": 30,
     "metadata": {},
     "output_type": "execute_result"
    }
   ],
   "source": [
    "e"
   ]
  },
  {
   "cell_type": "code",
   "execution_count": 31,
   "id": "90111b6b",
   "metadata": {},
   "outputs": [
    {
     "name": "stdout",
     "output_type": "stream",
     "text": [
      "printed object\n"
     ]
    }
   ],
   "source": [
    "print(e)"
   ]
  },
  {
   "cell_type": "code",
   "execution_count": 32,
   "id": "a8636763",
   "metadata": {},
   "outputs": [],
   "source": [
    "class Employee:\n",
    "    def __init__(self):\n",
    "        print(\"init\")\n",
    "    def __repr__(self):\n",
    "        return \"printed object\"\n",
    "    def __str__(self):\n",
    "        return \"string representation\""
   ]
  },
  {
   "cell_type": "code",
   "execution_count": 33,
   "id": "41d93063",
   "metadata": {},
   "outputs": [
    {
     "name": "stdout",
     "output_type": "stream",
     "text": [
      "init\n"
     ]
    }
   ],
   "source": [
    "e=Employee()"
   ]
  },
  {
   "cell_type": "code",
   "execution_count": 34,
   "id": "e143c1bd",
   "metadata": {},
   "outputs": [
    {
     "data": {
      "text/plain": [
       "printed object"
      ]
     },
     "execution_count": 34,
     "metadata": {},
     "output_type": "execute_result"
    }
   ],
   "source": [
    "e"
   ]
  },
  {
   "cell_type": "code",
   "execution_count": 35,
   "id": "e126bd72",
   "metadata": {},
   "outputs": [
    {
     "name": "stdout",
     "output_type": "stream",
     "text": [
      "string representation\n"
     ]
    }
   ],
   "source": [
    "print(e)"
   ]
  },
  {
   "cell_type": "code",
   "execution_count": 36,
   "id": "da0f789e",
   "metadata": {},
   "outputs": [],
   "source": [
    "class Employee:\n",
    "    def __init__(self):\n",
    "        print(\"init\")\n",
    "    def __repr__(self):\n",
    "        return \"printed object\"\n",
    "    def __str__(self):\n",
    "        return \"string representation\"\n",
    "    def __call__(self):\n",
    "        return \"called\""
   ]
  },
  {
   "cell_type": "code",
   "execution_count": 37,
   "id": "406b1af8",
   "metadata": {},
   "outputs": [
    {
     "name": "stdout",
     "output_type": "stream",
     "text": [
      "init\n"
     ]
    }
   ],
   "source": [
    "e=Employee()"
   ]
  },
  {
   "cell_type": "code",
   "execution_count": 38,
   "id": "0e96aded",
   "metadata": {},
   "outputs": [
    {
     "data": {
      "text/plain": [
       "'called'"
      ]
     },
     "execution_count": 38,
     "metadata": {},
     "output_type": "execute_result"
    }
   ],
   "source": [
    "e()"
   ]
  },
  {
   "cell_type": "code",
   "execution_count": 39,
   "id": "c692d9f0",
   "metadata": {},
   "outputs": [],
   "source": [
    "a=10"
   ]
  },
  {
   "cell_type": "code",
   "execution_count": 41,
   "id": "3a56e9f8",
   "metadata": {},
   "outputs": [
    {
     "data": {
      "text/plain": [
       "['__abs__',\n",
       " '__add__',\n",
       " '__and__',\n",
       " '__bool__',\n",
       " '__ceil__',\n",
       " '__class__',\n",
       " '__delattr__',\n",
       " '__dir__',\n",
       " '__divmod__',\n",
       " '__doc__',\n",
       " '__eq__',\n",
       " '__float__',\n",
       " '__floor__',\n",
       " '__floordiv__',\n",
       " '__format__',\n",
       " '__ge__',\n",
       " '__getattribute__',\n",
       " '__getnewargs__',\n",
       " '__gt__',\n",
       " '__hash__',\n",
       " '__index__',\n",
       " '__init__',\n",
       " '__init_subclass__',\n",
       " '__int__',\n",
       " '__invert__',\n",
       " '__le__',\n",
       " '__lshift__',\n",
       " '__lt__',\n",
       " '__mod__',\n",
       " '__mul__',\n",
       " '__ne__',\n",
       " '__neg__',\n",
       " '__new__',\n",
       " '__or__',\n",
       " '__pos__',\n",
       " '__pow__',\n",
       " '__radd__',\n",
       " '__rand__',\n",
       " '__rdivmod__',\n",
       " '__reduce__',\n",
       " '__reduce_ex__',\n",
       " '__repr__',\n",
       " '__rfloordiv__',\n",
       " '__rlshift__',\n",
       " '__rmod__',\n",
       " '__rmul__',\n",
       " '__ror__',\n",
       " '__round__',\n",
       " '__rpow__',\n",
       " '__rrshift__',\n",
       " '__rshift__',\n",
       " '__rsub__',\n",
       " '__rtruediv__',\n",
       " '__rxor__',\n",
       " '__setattr__',\n",
       " '__sizeof__',\n",
       " '__str__',\n",
       " '__sub__',\n",
       " '__subclasshook__',\n",
       " '__truediv__',\n",
       " '__trunc__',\n",
       " '__xor__',\n",
       " 'as_integer_ratio',\n",
       " 'bit_length',\n",
       " 'conjugate',\n",
       " 'denominator',\n",
       " 'from_bytes',\n",
       " 'imag',\n",
       " 'numerator',\n",
       " 'real',\n",
       " 'to_bytes']"
      ]
     },
     "execution_count": 41,
     "metadata": {},
     "output_type": "execute_result"
    }
   ],
   "source": [
    "dir(a)"
   ]
  },
  {
   "cell_type": "code",
   "execution_count": 46,
   "id": "31b5c002",
   "metadata": {},
   "outputs": [
    {
     "data": {
      "text/plain": [
       "80"
      ]
     },
     "execution_count": 46,
     "metadata": {},
     "output_type": "execute_result"
    }
   ],
   "source": [
    "a.__lshift__(3)"
   ]
  },
  {
   "cell_type": "code",
   "execution_count": 50,
   "id": "759d3605",
   "metadata": {},
   "outputs": [
    {
     "data": {
      "text/plain": [
       "2"
      ]
     },
     "execution_count": 50,
     "metadata": {},
     "output_type": "execute_result"
    }
   ],
   "source": [
    "a.__rshift__(2)"
   ]
  },
  {
   "cell_type": "code",
   "execution_count": 60,
   "id": "f9c8478f",
   "metadata": {},
   "outputs": [
    {
     "data": {
      "text/plain": [
       "100"
      ]
     },
     "execution_count": 60,
     "metadata": {},
     "output_type": "execute_result"
    }
   ],
   "source": [
    "b=10\n",
    "a.__mul__(b)"
   ]
  },
  {
   "cell_type": "code",
   "execution_count": 66,
   "id": "469daff9",
   "metadata": {},
   "outputs": [],
   "source": [
    "## Getter setter and deleters\n",
    "\n",
    "class Employee:\n",
    "    def __init__(self,first,last):\n",
    "        self.first = first\n",
    "        self.last = last\n",
    "        self.email = first+'.'+last+\"@email.com\"\n",
    "        \n",
    "    def fullname(self):\n",
    "        return '{} {}'.format(self.first,self.last)\n",
    "        "
   ]
  },
  {
   "cell_type": "code",
   "execution_count": 67,
   "id": "b1fb518a",
   "metadata": {},
   "outputs": [
    {
     "name": "stdout",
     "output_type": "stream",
     "text": [
      "dear\n",
      "Meda.Shabarish@email.com\n",
      "dear Shabarish\n"
     ]
    }
   ],
   "source": [
    "emp1 = Employee(\"Meda\",'Shabarish')\n",
    "\n",
    "emp1.first = 'dear'\n",
    "\n",
    "print(emp1.first)\n",
    "print(emp1.email)\n",
    "print(emp1.fullname())"
   ]
  },
  {
   "cell_type": "markdown",
   "id": "4cea3200",
   "metadata": {},
   "source": [
    "#### If we can observe in email first name is not updating"
   ]
  },
  {
   "cell_type": "code",
   "execution_count": 68,
   "id": "da538f07",
   "metadata": {},
   "outputs": [],
   "source": [
    "class Employee:\n",
    "    def __init__(self,first,last):\n",
    "        self.first = first\n",
    "        self.last = last\n",
    "    \n",
    "    def email(self):\n",
    "        return '{}.{}@email.com'.format(self.first,self.last)\n",
    "    def fullname(self):\n",
    "        return '{} {}'.format(self.first,self.last)\n",
    "        "
   ]
  },
  {
   "cell_type": "code",
   "execution_count": 69,
   "id": "7f179f48",
   "metadata": {},
   "outputs": [
    {
     "name": "stdout",
     "output_type": "stream",
     "text": [
      "dear\n",
      "dear.Shabarish@email.com\n",
      "dear Shabarish\n"
     ]
    }
   ],
   "source": [
    "emp1 = Employee(\"Meda\",'Shabarish')\n",
    "\n",
    "emp1.first = 'dear'\n",
    "\n",
    "print(emp1.first)\n",
    "print(emp1.email())\n",
    "print(emp1.fullname())"
   ]
  },
  {
   "cell_type": "markdown",
   "id": "d5a90e49",
   "metadata": {},
   "source": [
    "### HEre it is changed but we need to call email as a function"
   ]
  },
  {
   "cell_type": "code",
   "execution_count": 70,
   "id": "100edbfd",
   "metadata": {},
   "outputs": [],
   "source": [
    "## use property decorators\n",
    "\n",
    "class Employee:\n",
    "    def __init__(self,first,last):\n",
    "        self.first = first\n",
    "        self.last = last\n",
    "    @property\n",
    "    def email(self):\n",
    "        return '{}.{}@email.com'.format(self.first,self.last)\n",
    "    def fullname(self):\n",
    "        return '{} {}'.format(self.first,self.last)"
   ]
  },
  {
   "cell_type": "code",
   "execution_count": 71,
   "id": "388d251d",
   "metadata": {},
   "outputs": [
    {
     "name": "stdout",
     "output_type": "stream",
     "text": [
      "dear\n",
      "dear.Shabarish@email.com\n",
      "dear Shabarish\n"
     ]
    }
   ],
   "source": [
    "emp1 = Employee(\"Meda\",'Shabarish')\n",
    "\n",
    "emp1.first = 'dear'\n",
    "\n",
    "print(emp1.first)\n",
    "print(emp1.email)\n",
    "print(emp1.fullname())"
   ]
  },
  {
   "cell_type": "code",
   "execution_count": 76,
   "id": "07efa357",
   "metadata": {},
   "outputs": [],
   "source": [
    "## use property decorators\n",
    "\n",
    "class Employee:\n",
    "    def __init__(self,first,last):\n",
    "        self.first = first\n",
    "        self.last = last\n",
    "    @property\n",
    "    def email(self):\n",
    "        return '{}.{}@email.com'.format(self.first,self.last)\n",
    "    @property\n",
    "    def fullname(self):\n",
    "        return '{} {}'.format(self.first,self.last)\n",
    "    \n",
    "    @fullname.setter\n",
    "    def fullname(self,name):\n",
    "        first ,last = name.split(' ')\n",
    "        self.first = first\n",
    "        self.last  = last\n",
    "    \n",
    "    @fullname.deleter\n",
    "    def fullname(self):\n",
    "        print(\"Deleted name\")\n",
    "        self.first = None\n",
    "        self.last = None"
   ]
  },
  {
   "cell_type": "code",
   "execution_count": 77,
   "id": "9fdf4d5c",
   "metadata": {},
   "outputs": [
    {
     "name": "stdout",
     "output_type": "stream",
     "text": [
      "chinu\n",
      "chinu.dear@email.com\n",
      "chinu dear\n"
     ]
    }
   ],
   "source": [
    "emp1 = Employee(\"Meda\",'Shabarish')\n",
    "\n",
    "emp1.fullname = 'chinu dear'\n",
    "\n",
    "print(emp1.first)\n",
    "print(emp1.email)\n",
    "print(emp1.fullname)"
   ]
  },
  {
   "cell_type": "code",
   "execution_count": 78,
   "id": "2f7aaafc",
   "metadata": {},
   "outputs": [
    {
     "data": {
      "text/plain": [
       "'chinu dear'"
      ]
     },
     "execution_count": 78,
     "metadata": {},
     "output_type": "execute_result"
    }
   ],
   "source": [
    "emp1.fullname"
   ]
  },
  {
   "cell_type": "code",
   "execution_count": 79,
   "id": "8dfe6ea6",
   "metadata": {},
   "outputs": [
    {
     "name": "stdout",
     "output_type": "stream",
     "text": [
      "Deleted name\n"
     ]
    }
   ],
   "source": [
    "del emp1.fullname"
   ]
  },
  {
   "cell_type": "code",
   "execution_count": 83,
   "id": "8074b5b9",
   "metadata": {},
   "outputs": [
    {
     "data": {
      "text/plain": [
       "'None.None@email.com'"
      ]
     },
     "execution_count": 83,
     "metadata": {},
     "output_type": "execute_result"
    }
   ],
   "source": [
    "emp1.email"
   ]
  },
  {
   "cell_type": "code",
   "execution_count": null,
   "id": "edf9f8bf",
   "metadata": {},
   "outputs": [],
   "source": []
  }
 ],
 "metadata": {
  "kernelspec": {
   "display_name": "Python 3 (ipykernel)",
   "language": "python",
   "name": "python3"
  },
  "language_info": {
   "codemirror_mode": {
    "name": "ipython",
    "version": 3
   },
   "file_extension": ".py",
   "mimetype": "text/x-python",
   "name": "python",
   "nbconvert_exporter": "python",
   "pygments_lexer": "ipython3",
   "version": "3.9.12"
  }
 },
 "nbformat": 4,
 "nbformat_minor": 5
}
