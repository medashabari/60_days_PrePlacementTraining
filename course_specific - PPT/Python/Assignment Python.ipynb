{
 "cells": [
  {
   "cell_type": "markdown",
   "id": "0e35ec5f",
   "metadata": {},
   "source": [
    "1. Write a Python program to reverse a string without using any built-in string reversal functions."
   ]
  },
  {
   "cell_type": "code",
   "execution_count": 1,
   "id": "2e703322",
   "metadata": {},
   "outputs": [
    {
     "data": {
      "text/plain": [
       "'dcba'"
      ]
     },
     "execution_count": 1,
     "metadata": {},
     "output_type": "execute_result"
    }
   ],
   "source": [
    "def reverse_str(s):\n",
    "    reverse = ''\n",
    "    for i in range(len(s)):\n",
    "        reverse = s[i]+reverse\n",
    "    return reverse\n",
    "\n",
    "reverse_str('abcd')\n",
    "        "
   ]
  },
  {
   "cell_type": "markdown",
   "id": "40ca4364",
   "metadata": {},
   "source": [
    "2. Implement a function to check if a given string is a palindrome."
   ]
  },
  {
   "cell_type": "code",
   "execution_count": 2,
   "id": "75e82811",
   "metadata": {},
   "outputs": [
    {
     "data": {
      "text/plain": [
       "True"
      ]
     },
     "execution_count": 2,
     "metadata": {},
     "output_type": "execute_result"
    }
   ],
   "source": [
    "def check_palindrom(s):\n",
    "    low = 0\n",
    "    high = len(s)-1\n",
    "    while low <= high:\n",
    "        if s[low]!=s[high]:\n",
    "            return False\n",
    "        low+=1\n",
    "        high-=1\n",
    "    return True\n",
    "\n",
    "check_palindrom('racecar')"
   ]
  },
  {
   "cell_type": "markdown",
   "id": "559b5bf6",
   "metadata": {},
   "source": [
    "3. Write a program to find the largest element in a given list."
   ]
  },
  {
   "cell_type": "code",
   "execution_count": 7,
   "id": "abe6bc6d",
   "metadata": {},
   "outputs": [
    {
     "data": {
      "text/plain": [
       "90"
      ]
     },
     "execution_count": 7,
     "metadata": {},
     "output_type": "execute_result"
    }
   ],
   "source": [
    "def find_max(l):\n",
    "    max = l[0]\n",
    "    for i in range(1,len(l)):\n",
    "        if l[i]>max:\n",
    "            max = l[i]\n",
    "    return max\n",
    "find_max([-99,1,2,3,4,5,-1,90])"
   ]
  },
  {
   "cell_type": "markdown",
   "id": "116e9324",
   "metadata": {},
   "source": [
    "4. Implement a function to count the occurrence of each element in a list."
   ]
  },
  {
   "cell_type": "code",
   "execution_count": 11,
   "id": "58cd7393",
   "metadata": {},
   "outputs": [
    {
     "data": {
      "text/plain": [
       "{1: 3, 2: 1, 4: 1, 5: 2, 6: 2, 8: 1, 9: 3, 0: 1}"
      ]
     },
     "execution_count": 11,
     "metadata": {},
     "output_type": "execute_result"
    }
   ],
   "source": [
    "def frequency_counter(l):\n",
    "    freq_counter  = {}\n",
    "    for i in l:\n",
    "        freq_counter[i] = freq_counter.get(i,0)+1\n",
    "    return freq_counter\n",
    "\n",
    "frequency_counter([1,2,1,4,5,6,1,8,6,5,9,9,9,0])"
   ]
  },
  {
   "cell_type": "markdown",
   "id": "416c93b6",
   "metadata": {},
   "source": [
    "5. Write a Python program to find the second largest number in a list."
   ]
  },
  {
   "cell_type": "code",
   "execution_count": 18,
   "id": "fbf1e6b9",
   "metadata": {},
   "outputs": [
    {
     "data": {
      "text/plain": [
       "8"
      ]
     },
     "execution_count": 18,
     "metadata": {},
     "output_type": "execute_result"
    }
   ],
   "source": [
    "def second_largest(l):\n",
    "    maxi = float('-inf')\n",
    "    second_maxi = float('inf')\n",
    "    \n",
    "    for i in range(len(l)):\n",
    "        if l[i] > maxi:\n",
    "            second_maxi = maxi\n",
    "            maxi = l[i]\n",
    "        elif l[i]<maxi and l[i]>second_maxi:\n",
    "            second_maxi = l[i]\n",
    "    return second_maxi\n",
    "second_largest([1,2,1,4,5,6,1,8,6,5,9,9,9,0])"
   ]
  },
  {
   "cell_type": "markdown",
   "id": "27743374",
   "metadata": {},
   "source": [
    "6. Implement a function to remove duplicate elements from a list."
   ]
  },
  {
   "cell_type": "code",
   "execution_count": 2,
   "id": "245a1f8a",
   "metadata": {},
   "outputs": [
    {
     "data": {
      "text/plain": [
       "[1, 2, 4]"
      ]
     },
     "execution_count": 2,
     "metadata": {},
     "output_type": "execute_result"
    }
   ],
   "source": [
    "def remove_duplicates(l):\n",
    "    return list(set(l))\n",
    "\n",
    "remove_duplicates([1,1,1,2,1,4,4,2])"
   ]
  },
  {
   "cell_type": "markdown",
   "id": "644b2681",
   "metadata": {},
   "source": [
    "7. Write a program to calculate the factorial of a given number."
   ]
  },
  {
   "cell_type": "code",
   "execution_count": 3,
   "id": "b7f2afda",
   "metadata": {},
   "outputs": [
    {
     "data": {
      "text/plain": [
       "720"
      ]
     },
     "execution_count": 3,
     "metadata": {},
     "output_type": "execute_result"
    }
   ],
   "source": [
    "def factorial(num):\n",
    "    if num==1:\n",
    "        return 1\n",
    "    else:\n",
    "        return num*factorial(num-1)\n",
    "\n",
    "factorial(6)"
   ]
  },
  {
   "cell_type": "markdown",
   "id": "bbdf77d6",
   "metadata": {},
   "source": [
    "8. Implement a function to check if a given number is prime."
   ]
  },
  {
   "cell_type": "code",
   "execution_count": 11,
   "id": "df452a8e",
   "metadata": {},
   "outputs": [
    {
     "data": {
      "text/plain": [
       "False"
      ]
     },
     "execution_count": 11,
     "metadata": {},
     "output_type": "execute_result"
    }
   ],
   "source": [
    "def check_prime(num):\n",
    "    if num<=1:\n",
    "        return False\n",
    "    for i in range(2,(num//2)+1):\n",
    "        if num%i==0:\n",
    "            return False\n",
    "            break\n",
    "    return True\n",
    "\n",
    "check_prime(4)"
   ]
  },
  {
   "cell_type": "markdown",
   "id": "bfa97bd1",
   "metadata": {},
   "source": [
    "9. Write a Python program to sort a list of integers in ascending order."
   ]
  },
  {
   "cell_type": "code",
   "execution_count": 12,
   "id": "2eec2c0d",
   "metadata": {},
   "outputs": [
    {
     "data": {
      "text/plain": [
       "[-3, -1, 0, 1, 2, 10]"
      ]
     },
     "execution_count": 12,
     "metadata": {},
     "output_type": "execute_result"
    }
   ],
   "source": [
    "def sort(nums):\n",
    "    return sorted(nums,reverse=False)\n",
    "sort([2,0,10,-1,1,-3])"
   ]
  },
  {
   "cell_type": "markdown",
   "id": "385f9c78",
   "metadata": {},
   "source": [
    "10. Implement a function to find the sum of all numbers in a list."
   ]
  },
  {
   "cell_type": "code",
   "execution_count": 13,
   "id": "dad56d37",
   "metadata": {},
   "outputs": [
    {
     "data": {
      "text/plain": [
       "31"
      ]
     },
     "execution_count": 13,
     "metadata": {},
     "output_type": "execute_result"
    }
   ],
   "source": [
    "def sumOfNums(nums):\n",
    "    return sum(nums)\n",
    "sumOfNums([1,2,3,4,5,6,10])\n"
   ]
  },
  {
   "cell_type": "markdown",
   "id": "14cab277",
   "metadata": {},
   "source": [
    "11. Write a program to find the common elements between two lists."
   ]
  },
  {
   "cell_type": "code",
   "execution_count": 17,
   "id": "8298829b",
   "metadata": {},
   "outputs": [
    {
     "data": {
      "text/plain": [
       "{1, 2, 3}"
      ]
     },
     "execution_count": 17,
     "metadata": {},
     "output_type": "execute_result"
    }
   ],
   "source": [
    "def find_commmon_elements(l1,l2):\n",
    "    return set(l1) & set(l2)\n",
    "\n",
    "find_commmon_elements([1,2,3],[1,2,3,4,5])"
   ]
  },
  {
   "cell_type": "markdown",
   "id": "1ef5de83",
   "metadata": {},
   "source": [
    "12. Implement a function to check if a given string is an anagram of another string."
   ]
  },
  {
   "cell_type": "code",
   "execution_count": 21,
   "id": "cc5687f2",
   "metadata": {},
   "outputs": [
    {
     "data": {
      "text/plain": [
       "False"
      ]
     },
     "execution_count": 21,
     "metadata": {},
     "output_type": "execute_result"
    }
   ],
   "source": [
    "def check_anagram(s1,s2):\n",
    "    if len(s1)!=len(s2):\n",
    "        return False\n",
    "    counter = [0]*26\n",
    "    for i,j in zip(s1,s2):\n",
    "        counter[ord(i)-ord('a')]+=1\n",
    "        counter[ord(j)-ord('a')]-=1\n",
    "    for i in counter:\n",
    "        if i!=0:\n",
    "            return False\n",
    "    return True\n",
    "    \n",
    "\n",
    "check_anagram('abcdf','dcbae')"
   ]
  },
  {
   "cell_type": "markdown",
   "id": "1a42cc52",
   "metadata": {},
   "source": [
    "13. Write a Python program to generate all permutations of a given string."
   ]
  },
  {
   "cell_type": "code",
   "execution_count": 22,
   "id": "22a63675",
   "metadata": {},
   "outputs": [
    {
     "name": "stdout",
     "output_type": "stream",
     "text": [
      "abc\n",
      "acb\n",
      "bac\n",
      "bca\n",
      "cba\n",
      "cab\n"
     ]
    }
   ],
   "source": [
    "def generate_permutations(s,i=0):\n",
    "    if len(s)==i:\n",
    "        print(\"\".join(s))\n",
    "    else:\n",
    "        for j in range(i,len(s)):\n",
    "            words = [word for word in s]\n",
    "            words[i],words[j]=words[j],words[i]\n",
    "            generate_permutations(words,i+1)\n",
    "        \n",
    "generate_permutations('abc')"
   ]
  },
  {
   "cell_type": "markdown",
   "id": "b5936969",
   "metadata": {},
   "source": [
    "14. Implement a function to calculate the Fibonacci sequence up to a given number of terms."
   ]
  },
  {
   "cell_type": "code",
   "execution_count": 26,
   "id": "2292b676",
   "metadata": {},
   "outputs": [
    {
     "name": "stdout",
     "output_type": "stream",
     "text": [
      "0 1 1 2 3 5 8 13 21 34 "
     ]
    }
   ],
   "source": [
    "def fib_sequence(num):\n",
    "    arr = [0]*num\n",
    "    arr[0] = 0\n",
    "    arr[1]= 1\n",
    "    print(arr[0],arr[1],end = ' ')\n",
    "    for i in range(2,num):\n",
    "        arr[i]=arr[i-1]+arr[i-2]\n",
    "        print(arr[i],end=' ')\n",
    "fib_sequence(10)"
   ]
  },
  {
   "cell_type": "markdown",
   "id": "58f80346",
   "metadata": {},
   "source": [
    "15. Write a program to find the median of a list of numbers.\n"
   ]
  },
  {
   "cell_type": "code",
   "execution_count": 35,
   "id": "c8792f25",
   "metadata": {},
   "outputs": [
    {
     "name": "stdout",
     "output_type": "stream",
     "text": [
      "Median of list is : 2.5\n"
     ]
    }
   ],
   "source": [
    "def find_median(nums):\n",
    "    nums.sort()\n",
    "    n = len(nums)\n",
    "    if n % 2 == 0:\n",
    "        median = (nums[n//2 - 1] + nums[n//2]) / 2\n",
    "    else:\n",
    "        median = nums[n//2]\n",
    "    print(\"Median of list is : \" + str(median))\n",
    "find_median([1,2,3,4])\n",
    "    "
   ]
  },
  {
   "cell_type": "markdown",
   "id": "95f23dea",
   "metadata": {},
   "source": [
    "16. Implement a function to check if a given list is sorted in non-decreasing order."
   ]
  },
  {
   "cell_type": "code",
   "execution_count": 43,
   "id": "45312080",
   "metadata": {},
   "outputs": [
    {
     "data": {
      "text/plain": [
       "False"
      ]
     },
     "execution_count": 43,
     "metadata": {},
     "output_type": "execute_result"
    }
   ],
   "source": [
    "def check_sorted(nums):\n",
    "    for i in range(1,len(nums)):\n",
    "        if nums[i-1]<nums[i]:\n",
    "            continue\n",
    "        else:\n",
    "            return False\n",
    "            break\n",
    "    return True\n",
    "\n",
    "check_sorted([1,2,3,-1])"
   ]
  },
  {
   "cell_type": "markdown",
   "id": "ee99024c",
   "metadata": {},
   "source": [
    "17. Write a Python program to find the intersection of two lists."
   ]
  },
  {
   "cell_type": "code",
   "execution_count": 45,
   "id": "447b613f",
   "metadata": {},
   "outputs": [
    {
     "data": {
      "text/plain": [
       "[2]"
      ]
     },
     "execution_count": 45,
     "metadata": {},
     "output_type": "execute_result"
    }
   ],
   "source": [
    "def find_intesction(l1,l2):\n",
    "    return list(set(l1) & set(l2))\n",
    "\n",
    "find_intesction([1,2,3],[2,5,6])"
   ]
  },
  {
   "cell_type": "markdown",
   "id": "5dbb099e",
   "metadata": {},
   "source": [
    "18. Implement a function to find the maximum subarray sum in a given list."
   ]
  },
  {
   "cell_type": "code",
   "execution_count": 62,
   "id": "e4cacec6",
   "metadata": {},
   "outputs": [
    {
     "name": "stdout",
     "output_type": "stream",
     "text": [
      "11\n"
     ]
    }
   ],
   "source": [
    "def max_subarry(nums):\n",
    "    curr_sum = max_sum = nums[0]\n",
    "    \n",
    "    for i in range(1,len(nums)):\n",
    "        curr_sum = max(nums[i],curr_sum+nums[i])\n",
    "        max_sum = max(max_sum,curr_sum)\n",
    "    return max_sum\n",
    "print(max_subarry([1,2,8,0,-1,-2,-10,3,4]))"
   ]
  },
  {
   "cell_type": "markdown",
   "id": "82196560",
   "metadata": {},
   "source": [
    "19. Write a program to remove all vowels from a given string."
   ]
  },
  {
   "cell_type": "code",
   "execution_count": 64,
   "id": "e8d4c362",
   "metadata": {},
   "outputs": [
    {
     "data": {
      "text/plain": [
       "'Nrn'"
      ]
     },
     "execution_count": 64,
     "metadata": {},
     "output_type": "execute_result"
    }
   ],
   "source": [
    "def remove_vowels(s):\n",
    "    new=''\n",
    "    for i in s:\n",
    "        if i not in ['a','e','i','o','u']:\n",
    "            new+=i\n",
    "            \n",
    "    return new\n",
    "remove_vowels('iNeuron')"
   ]
  },
  {
   "cell_type": "markdown",
   "id": "5f694ef8",
   "metadata": {},
   "source": [
    "20. Implement a function to reverse the order of words in a given sentence."
   ]
  },
  {
   "cell_type": "code",
   "execution_count": 66,
   "id": "8016151b",
   "metadata": {},
   "outputs": [
    {
     "data": {
      "text/plain": [
       "'powerfull is Python'"
      ]
     },
     "execution_count": 66,
     "metadata": {},
     "output_type": "execute_result"
    }
   ],
   "source": [
    "def reverse_order(s):\n",
    "    words = s.split()\n",
    "    words = words[::-1]\n",
    "    return ' '.join(words)\n",
    "\n",
    "reverse_order('Python is powerfull')"
   ]
  },
  {
   "cell_type": "markdown",
   "id": "958f06e3",
   "metadata": {},
   "source": [
    "21. Write a Python program to check if two strings are anagrams of each other."
   ]
  },
  {
   "cell_type": "code",
   "execution_count": 67,
   "id": "a9f39b81",
   "metadata": {},
   "outputs": [
    {
     "data": {
      "text/plain": [
       "False"
      ]
     },
     "execution_count": 67,
     "metadata": {},
     "output_type": "execute_result"
    }
   ],
   "source": [
    "def check_anagram(s1,s2):\n",
    "    if len(s1)!=len(s2):\n",
    "        return False\n",
    "    counter = [0]*26\n",
    "    for i,j in zip(s1,s2):\n",
    "        counter[ord(i)-ord('a')]+=1\n",
    "        counter[ord(j)-ord('a')]-=1\n",
    "    for i in counter:\n",
    "        if i!=0:\n",
    "            return False\n",
    "    return True\n",
    "    \n",
    "\n",
    "check_anagram('abcdf','dcbae')"
   ]
  },
  {
   "cell_type": "markdown",
   "id": "b2c97d98",
   "metadata": {},
   "source": [
    "22. Implement a function to find the first non-repeating character in a string."
   ]
  },
  {
   "cell_type": "code",
   "execution_count": 69,
   "id": "82d9d4de",
   "metadata": {},
   "outputs": [
    {
     "data": {
      "text/plain": [
       "'c'"
      ]
     },
     "execution_count": 69,
     "metadata": {},
     "output_type": "execute_result"
    }
   ],
   "source": [
    "def first_non_repeatingChar(s):\n",
    "    freq_counter={}\n",
    "    for char in s:\n",
    "        freq_counter[char]=freq_counter.get(char,0)+1\n",
    "    for key,value in freq_counter.items():\n",
    "        if value==1:\n",
    "            return key\n",
    "    else:\n",
    "        return None\n",
    "first_non_repeatingChar('abcdab')"
   ]
  },
  {
   "cell_type": "markdown",
   "id": "e703d833",
   "metadata": {},
   "source": [
    "23. Write a program to find the prime factors of a given number."
   ]
  },
  {
   "cell_type": "code",
   "execution_count": 74,
   "id": "d347041b",
   "metadata": {},
   "outputs": [
    {
     "data": {
      "text/plain": [
       "[2, 2, 5]"
      ]
     },
     "execution_count": 74,
     "metadata": {},
     "output_type": "execute_result"
    }
   ],
   "source": [
    "def find_prime_factors(num):\n",
    "    prime_factors = []\n",
    "    divisor = 2\n",
    "    \n",
    "    while divisor <= num:\n",
    "        if num%divisor ==0:\n",
    "            prime_factors.append(divisor)\n",
    "            num = num//divisor\n",
    "        else:\n",
    "            divisor+=1\n",
    "    return prime_factors\n",
    "\n",
    "find_prime_factors(20)"
   ]
  },
  {
   "cell_type": "markdown",
   "id": "b6027f86",
   "metadata": {},
   "source": [
    "24. Implement a function to check if a given number is a power of two."
   ]
  },
  {
   "cell_type": "code",
   "execution_count": 75,
   "id": "54b7bf36",
   "metadata": {},
   "outputs": [
    {
     "data": {
      "text/plain": [
       "False"
      ]
     },
     "execution_count": 75,
     "metadata": {},
     "output_type": "execute_result"
    }
   ],
   "source": [
    "def isPowerOfTwo(n):\n",
    "    if n==1:\n",
    "        return True\n",
    "    elif n<=0 or n%2!=0:\n",
    "        return False\n",
    "    else:\n",
    "        return isPowerOfTwo(n//2)\n",
    "isPowerOfTwo(10)"
   ]
  },
  {
   "cell_type": "markdown",
   "id": "417b5966",
   "metadata": {},
   "source": [
    "25. Write a Python program to merge two sorted lists into a single sorted list."
   ]
  },
  {
   "cell_type": "code",
   "execution_count": 79,
   "id": "066e1fa3",
   "metadata": {},
   "outputs": [
    {
     "data": {
      "text/plain": [
       "[1, 2, 3, 4, 5, 7, 10, 20, 30]"
      ]
     },
     "execution_count": 79,
     "metadata": {},
     "output_type": "execute_result"
    }
   ],
   "source": [
    "def merge_sorted_list(l1,l2):\n",
    "    merged = []\n",
    "    i=j=0\n",
    "    while i!=len(l1) and j!=len(l2):\n",
    "        if l1[i]<=l2[j]:\n",
    "            merged.append(l1[i])\n",
    "            i+=1\n",
    "        else:\n",
    "            merged.append(l2[j])\n",
    "            j+=1\n",
    "    while i<len(l1):\n",
    "        merged.append(l1[i])\n",
    "        i+=1\n",
    "    while j<len(l2):\n",
    "        merged.append(l2[j])\n",
    "        j+=1\n",
    "    \n",
    "    return merged\n",
    "merge_sorted_list([2,4,5,30],[1,3,7,10,20])\n",
    "    "
   ]
  },
  {
   "cell_type": "markdown",
   "id": "190e3519",
   "metadata": {},
   "source": [
    "26. Implement a function to find the mode of a list of numbers."
   ]
  },
  {
   "cell_type": "code",
   "execution_count": 82,
   "id": "43b46985",
   "metadata": {},
   "outputs": [
    {
     "name": "stdout",
     "output_type": "stream",
     "text": [
      "a b "
     ]
    }
   ],
   "source": [
    "def find_mode(s):\n",
    "    freq_counter={}\n",
    "    for char in s:\n",
    "        freq_counter[char]=freq_counter.get(char,0)+1\n",
    "    for key,value in freq_counter.items():\n",
    "        if value == max(freq_counter.values()):\n",
    "            print(key,end=' ')\n",
    "find_mode('abcdabab')"
   ]
  },
  {
   "cell_type": "markdown",
   "id": "90e1e166",
   "metadata": {},
   "source": [
    "27. Write a program to find the greatest common divisor (GCD) of two numbers."
   ]
  },
  {
   "cell_type": "code",
   "execution_count": 2,
   "id": "dfd0dcfc",
   "metadata": {},
   "outputs": [
    {
     "data": {
      "text/plain": [
       "4"
      ]
     },
     "execution_count": 2,
     "metadata": {},
     "output_type": "execute_result"
    }
   ],
   "source": [
    "def gcd(a,b):\n",
    "    if b==0:\n",
    "        return a\n",
    "    else:\n",
    "        return gcd(b,a%b)\n",
    "gcd(12,16)"
   ]
  },
  {
   "cell_type": "markdown",
   "id": "df5be140",
   "metadata": {},
   "source": [
    "28. Implement a function to calculate the square root of a given number."
   ]
  },
  {
   "cell_type": "code",
   "execution_count": 3,
   "id": "c3ae41b1",
   "metadata": {},
   "outputs": [
    {
     "data": {
      "text/plain": [
       "3"
      ]
     },
     "execution_count": 3,
     "metadata": {},
     "output_type": "execute_result"
    }
   ],
   "source": [
    "def sqaure_root(x):\n",
    "    if x<2:\n",
    "        return x\n",
    "    low=1\n",
    "    high=x\n",
    "    while low<=high:\n",
    "        mid = (low+high)//2\n",
    "        if mid*mid ==x:\n",
    "            return round(mid)\n",
    "        elif mid*mid <x:\n",
    "            low = mid+1\n",
    "        else:\n",
    "            high=mid-1\n",
    "    return high\n",
    "\n",
    "sqaure_root(10)"
   ]
  },
  {
   "cell_type": "markdown",
   "id": "a74a773c",
   "metadata": {},
   "source": [
    "29. Write a Python program to check if a given string is a valid palindrome ignoring non-alphanumeric characters."
   ]
  },
  {
   "cell_type": "code",
   "execution_count": 14,
   "id": "dc7fedc9",
   "metadata": {},
   "outputs": [
    {
     "data": {
      "text/plain": [
       "True"
      ]
     },
     "execution_count": 14,
     "metadata": {},
     "output_type": "execute_result"
    }
   ],
   "source": [
    "def is_valid_palindrome(s):\n",
    "    low = 0\n",
    "    high = len(s)-1\n",
    "    while low <= high:\n",
    "        while not s[low].isalnum():\n",
    "            low+=1\n",
    "        while not s[high].isalnum():\n",
    "            high-=1\n",
    "        if s[low]!=s[high]:\n",
    "            return False\n",
    "        low+=1\n",
    "        high-=1\n",
    "    return True\n",
    "is_valid_palindrome('@ra#ce$car%^')"
   ]
  },
  {
   "cell_type": "markdown",
   "id": "c1727a65",
   "metadata": {},
   "source": [
    "30. Implement a function to find the minimum element in a rotated sorted list."
   ]
  },
  {
   "cell_type": "code",
   "execution_count": 15,
   "id": "c6fca864",
   "metadata": {},
   "outputs": [
    {
     "data": {
      "text/plain": [
       "0"
      ]
     },
     "execution_count": 15,
     "metadata": {},
     "output_type": "execute_result"
    }
   ],
   "source": [
    "def findMinimum(arr):\n",
    "    low = 0\n",
    "    high = len(arr)-1\n",
    "    if arr[low] < arr[high]:\n",
    "        return arr[low]\n",
    "    while low < high:\n",
    "        mid = (low+high)//2\n",
    "        if arr[mid] < arr[high]:\n",
    "            high = mid\n",
    "        else:\n",
    "            low=mid+1\n",
    "    return arr[low]\n",
    "\n",
    "findMinimum([7,8,9,0,1,2,3,4])"
   ]
  },
  {
   "cell_type": "markdown",
   "id": "4bb2c368",
   "metadata": {},
   "source": [
    "31. Write a program to find the sum of all even numbers in a list."
   ]
  },
  {
   "cell_type": "code",
   "execution_count": 83,
   "id": "567b9af6",
   "metadata": {},
   "outputs": [
    {
     "data": {
      "text/plain": [
       "6"
      ]
     },
     "execution_count": 83,
     "metadata": {},
     "output_type": "execute_result"
    }
   ],
   "source": [
    "def findEvenSum(l):\n",
    "    return sum([x for x in l if x%2==0])\n",
    "findEvenSum([1,2,3,4,5])"
   ]
  },
  {
   "cell_type": "markdown",
   "id": "6850d216",
   "metadata": {},
   "source": [
    "32. Implement a function to calculate the power of a number using recursion."
   ]
  },
  {
   "cell_type": "code",
   "execution_count": 17,
   "id": "4cd42745",
   "metadata": {},
   "outputs": [
    {
     "data": {
      "text/plain": [
       "1024"
      ]
     },
     "execution_count": 17,
     "metadata": {},
     "output_type": "execute_result"
    }
   ],
   "source": [
    "def pow(x,n):\n",
    "    if n==0:\n",
    "        return 1\n",
    "    else:\n",
    "        return x*pow(x*x,n//2) if n%2 else pow(x*x,n//2)\n",
    "pow(2,10)"
   ]
  },
  {
   "cell_type": "markdown",
   "id": "aaaefc57",
   "metadata": {},
   "source": [
    "33. Write a Python program to remove duplicates from a list while preserving the order."
   ]
  },
  {
   "cell_type": "code",
   "execution_count": 28,
   "id": "3b3cb3c6",
   "metadata": {},
   "outputs": [
    {
     "name": "stdout",
     "output_type": "stream",
     "text": [
      "[1, 2, 3, 4]\n"
     ]
    }
   ],
   "source": [
    "def remove_duplicates(l):\n",
    "    freq_counter = {}\n",
    "    new=[]\n",
    "    for i in l:\n",
    "        if i not in freq_counter:\n",
    "            freq_counter[i]=1\n",
    "            new.append(i)\n",
    "            \n",
    "    return new\n",
    "\n",
    "print(remove_duplicates([1,2,1,2,3,3,4]))\n",
    "        "
   ]
  },
  {
   "cell_type": "markdown",
   "id": "8d0c8adc",
   "metadata": {},
   "source": [
    "34. Implement a function to find the longest common prefix among a list of strings."
   ]
  },
  {
   "cell_type": "code",
   "execution_count": 29,
   "id": "497a2fcd",
   "metadata": {},
   "outputs": [
    {
     "data": {
      "text/plain": [
       "'fl'"
      ]
     },
     "execution_count": 29,
     "metadata": {},
     "output_type": "execute_result"
    }
   ],
   "source": [
    "def lcp(strs):\n",
    "    if len(strs)==0:\n",
    "        return ''\n",
    "    prefix = strs[0]\n",
    "    for i in range(len(strs)):\n",
    "        while strs[i].find(prefix)!=0:\n",
    "            prefix = prefix[:-1]\n",
    "            if len(prefix)==0:\n",
    "                return ''\n",
    "    return prefix\n",
    "\n",
    "lcp(['flower','flow','floating','fly','flying'])"
   ]
  },
  {
   "cell_type": "markdown",
   "id": "75749467",
   "metadata": {},
   "source": [
    "35. Write a program to check if a given number is a perfect square."
   ]
  },
  {
   "cell_type": "code",
   "execution_count": 33,
   "id": "4839e510",
   "metadata": {},
   "outputs": [
    {
     "data": {
      "text/plain": [
       "False"
      ]
     },
     "execution_count": 33,
     "metadata": {},
     "output_type": "execute_result"
    }
   ],
   "source": [
    "def is_perfect_Sqaure(n):\n",
    "    for x in range(1,(n//2)+1):\n",
    "        if n==x*x:\n",
    "            return True\n",
    "    else:\n",
    "        return False\n",
    "is_perfect_Sqaure(10)"
   ]
  },
  {
   "cell_type": "markdown",
   "id": "c9713d95",
   "metadata": {},
   "source": [
    "36. Implement a function to calculate the product of all elements in a list."
   ]
  },
  {
   "cell_type": "code",
   "execution_count": 36,
   "id": "d0921f8f",
   "metadata": {},
   "outputs": [
    {
     "data": {
      "text/plain": [
       "6"
      ]
     },
     "execution_count": 36,
     "metadata": {},
     "output_type": "execute_result"
    }
   ],
   "source": [
    "def product(l):\n",
    "    s = 1\n",
    "    for i in l:\n",
    "        s*=i\n",
    "    return s\n",
    "product([1,2,3])"
   ]
  },
  {
   "cell_type": "markdown",
   "id": "d8923a1b",
   "metadata": {},
   "source": [
    "37. Write a Python program to reverse the order of words in a sentence while preserving the word order."
   ]
  },
  {
   "cell_type": "code",
   "execution_count": 37,
   "id": "b6f303a3",
   "metadata": {},
   "outputs": [
    {
     "data": {
      "text/plain": [
       "'powerfull is Python'"
      ]
     },
     "execution_count": 37,
     "metadata": {},
     "output_type": "execute_result"
    }
   ],
   "source": [
    "def reverse_order(s):\n",
    "    words = s.split()\n",
    "    words = words[::-1]\n",
    "    return ' '.join(words)\n",
    "\n",
    "reverse_order('Python is powerfull')"
   ]
  },
  {
   "cell_type": "markdown",
   "id": "af0b52ed",
   "metadata": {},
   "source": [
    "38. Implement a function to find the missing number in a given list of consecutive numbers."
   ]
  },
  {
   "cell_type": "code",
   "execution_count": 53,
   "id": "b3351147",
   "metadata": {},
   "outputs": [
    {
     "data": {
      "text/plain": [
       "2"
      ]
     },
     "execution_count": 53,
     "metadata": {},
     "output_type": "execute_result"
    }
   ],
   "source": [
    "def find_missing(l):\n",
    "    n = len(l)\n",
    "    total_sum =((n+1)*(l[0]+l[-1]))//2\n",
    "    actual_sum = sum(l)  \n",
    "    missing_number = total_sum - actual_sum \n",
    "    return missing_number\n",
    "\n",
    "find_missing([1,3,4,5,6])\n",
    "    "
   ]
  },
  {
   "cell_type": "markdown",
   "id": "fddc7640",
   "metadata": {},
   "source": [
    "39. Write a program to find the sum of digits of a given number."
   ]
  },
  {
   "cell_type": "code",
   "execution_count": 58,
   "id": "6b46308c",
   "metadata": {},
   "outputs": [
    {
     "data": {
      "text/plain": [
       "6"
      ]
     },
     "execution_count": 58,
     "metadata": {},
     "output_type": "execute_result"
    }
   ],
   "source": [
    "def sumOfDigits(n):\n",
    "    if n==0:\n",
    "        return n\n",
    "    s = 0 \n",
    "    while n!=0:\n",
    "        rem = n%10\n",
    "        s += rem\n",
    "        n//=10\n",
    "    return s\n",
    "sumOfDigits(123)\n"
   ]
  },
  {
   "cell_type": "markdown",
   "id": "7b5c7b68",
   "metadata": {},
   "source": [
    "40. Implement a function to check if a given string is a valid palindrome considering case sensitivity."
   ]
  },
  {
   "cell_type": "code",
   "execution_count": 13,
   "id": "43ee2454",
   "metadata": {},
   "outputs": [
    {
     "data": {
      "text/plain": [
       "True"
      ]
     },
     "execution_count": 13,
     "metadata": {},
     "output_type": "execute_result"
    }
   ],
   "source": [
    "def valid_palidrome(s):\n",
    "    cleaned_str = ''.join(char.lower() for char in s if char.isalnum())\n",
    "    return cleaned_str == cleaned_str[::-1]\n",
    "valid_palidrome('A man, a plan, a canal: Panama')"
   ]
  },
  {
   "cell_type": "markdown",
   "id": "9212f16e",
   "metadata": {},
   "source": [
    "41. Write a Python program to find the smallest missing positive integer in a list."
   ]
  },
  {
   "cell_type": "code",
   "execution_count": 14,
   "id": "3ee86216",
   "metadata": {},
   "outputs": [
    {
     "data": {
      "text/plain": [
       "2"
      ]
     },
     "execution_count": 14,
     "metadata": {},
     "output_type": "execute_result"
    }
   ],
   "source": [
    "def find_smallest_postive(nums):\n",
    "    nums = [num for num in nums if num>0]\n",
    "    smallest_pos = 1\n",
    "    nums.sort()\n",
    "    for num in nums:\n",
    "        if smallest_pos==num:\n",
    "            smallest_pos+=1\n",
    "        elif num > smallest_pos:\n",
    "            return smallest_pos\n",
    "    return smallest_pos\n",
    "\n",
    "find_smallest_postive([0,-9,10,1,3,4,-11])"
   ]
  },
  {
   "cell_type": "markdown",
   "id": "39dae025",
   "metadata": {},
   "source": [
    "42. Implement a function to find the longest palindrome substring in a given string."
   ]
  },
  {
   "cell_type": "code",
   "execution_count": 20,
   "id": "304abbb7",
   "metadata": {},
   "outputs": [
    {
     "data": {
      "text/plain": [
       "7"
      ]
     },
     "execution_count": 20,
     "metadata": {},
     "output_type": "execute_result"
    }
   ],
   "source": [
    "def is_palindrome(s):\n",
    "    return s == s[::-1]\n",
    "def longest_palindrome(s):\n",
    "    max_len = 0\n",
    "    substrings = []\n",
    "    for i in range(len(s)):\n",
    "        for j in range(i+1,len(s)+1):\n",
    "            if is_palindrome(s[i:j]):\n",
    "                max_len = max(max_len,len(s[i:j]))\n",
    "    return max_len\n",
    "longest_palindrome('abcracecarabs')"
   ]
  },
  {
   "cell_type": "markdown",
   "id": "a39b0b9e",
   "metadata": {},
   "source": [
    "43. Write a program to find the number of occurrences of a given element in a list."
   ]
  },
  {
   "cell_type": "code",
   "execution_count": 21,
   "id": "bf78c778",
   "metadata": {},
   "outputs": [
    {
     "data": {
      "text/plain": [
       "{'a': 2, 'b': 2}"
      ]
     },
     "execution_count": 21,
     "metadata": {},
     "output_type": "execute_result"
    }
   ],
   "source": [
    "def count_occurances(l):\n",
    "    freq_counter = {}\n",
    "    for i in l:\n",
    "        freq_counter[i] = freq_counter.get(i,0)+1\n",
    "    return freq_counter\n",
    "\n",
    "count_occurances(['a','b','a','b'])"
   ]
  },
  {
   "cell_type": "markdown",
   "id": "ecd93434",
   "metadata": {},
   "source": [
    "44. Implement a function to check if a given number is a perfect number."
   ]
  },
  {
   "cell_type": "code",
   "execution_count": 8,
   "id": "8477e189",
   "metadata": {},
   "outputs": [
    {
     "data": {
      "text/plain": [
       "True"
      ]
     },
     "execution_count": 8,
     "metadata": {},
     "output_type": "execute_result"
    }
   ],
   "source": [
    "def is_perfect_number(n):\n",
    "    if n<=0:\n",
    "        return False\n",
    "    s=0\n",
    "    for i in range(1,n):\n",
    "        if n%i==0:\n",
    "            s+=i\n",
    "    return s==n\n",
    "is_perfect_number(28)"
   ]
  },
  {
   "cell_type": "markdown",
   "id": "affa25fb",
   "metadata": {},
   "source": [
    "45. Write a Python program to remove all duplicates from a string."
   ]
  },
  {
   "cell_type": "code",
   "execution_count": 6,
   "id": "9cf7a492",
   "metadata": {},
   "outputs": [
    {
     "data": {
      "text/plain": [
       "'race'"
      ]
     },
     "execution_count": 6,
     "metadata": {},
     "output_type": "execute_result"
    }
   ],
   "source": [
    "def remove_duplicates(s):\n",
    "    return ''.join(list(set(list(s))))\n",
    "remove_duplicates('racecare')\n",
    "\n"
   ]
  },
  {
   "cell_type": "markdown",
   "id": "c8b8063d",
   "metadata": {},
   "source": [
    "46. Implement a function to find the first missing positive"
   ]
  },
  {
   "cell_type": "code",
   "execution_count": 24,
   "id": "eb541b49",
   "metadata": {},
   "outputs": [
    {
     "data": {
      "text/plain": [
       "1"
      ]
     },
     "execution_count": 24,
     "metadata": {},
     "output_type": "execute_result"
    }
   ],
   "source": [
    "def first_missing_positive(nums):\n",
    "    nums = [num for num in nums if num>0]\n",
    "    missing_pos = 1\n",
    "    nums.sort()\n",
    "    for num in nums:\n",
    "        if missing_pos==num:\n",
    "            missing_pos+=1\n",
    "        elif num > missing_pos:\n",
    "            return missing_pos\n",
    "    return missing_pos\n",
    "\n",
    "first_missing_positive([0,9,10,2,3,4,5])"
   ]
  }
 ],
 "metadata": {
  "kernelspec": {
   "display_name": "Python 3 (ipykernel)",
   "language": "python",
   "name": "python3"
  },
  "language_info": {
   "codemirror_mode": {
    "name": "ipython",
    "version": 3
   },
   "file_extension": ".py",
   "mimetype": "text/x-python",
   "name": "python",
   "nbconvert_exporter": "python",
   "pygments_lexer": "ipython3",
   "version": "3.9.12"
  }
 },
 "nbformat": 4,
 "nbformat_minor": 5
}
