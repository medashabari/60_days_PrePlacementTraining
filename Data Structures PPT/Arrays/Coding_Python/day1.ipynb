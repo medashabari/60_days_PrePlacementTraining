{
 "cells": [
  {
   "attachments": {},
   "cell_type": "markdown",
   "metadata": {},
   "source": [
    "<aside>\n",
    "💡 **Q1.** Given an array of size N. The task is to find the maximum and the minimum element of the array using the minimum number of comparisons.\n",
    "\n",
    "**Examples:**\n",
    "\n",
    "Input: arr[] = {3, 5, 4, 1, 9}\n",
    "\n",
    "Output: Minimum element is: 1\n",
    "\n",
    "Maximum element is: 9\n",
    "\n",
    "**Solution:**\n",
    "\n",
    "**Java**\n",
    "\n",
    "Code Link :- https://pastebin.com/hMGGWh8h\n",
    "\n",
    "**Python**\n",
    "\n",
    "Code link :- https://pastebin.com/QY1F14zj\n",
    "\n",
    "**Javascript**\n",
    "\n",
    "Code link :- https://pastebin.com/jSwAgcUU\n",
    "\n",
    "TC : O(n)\n",
    "\n",
    "SC: O(n)\n",
    "\n",
    "</aside>"
   ]
  },
  {
   "cell_type": "code",
   "execution_count": 1,
   "metadata": {},
   "outputs": [],
   "source": [
    "class Pair:\n",
    "    def __init__(self):\n",
    "        self.min=0\n",
    "        self.max=0 \n",
    "\n",
    "def getMinMax(arr:list,n:int) -> Pair:\n",
    "    minmax=Pair()\n",
    "    \n",
    "    # if only one element in array\n",
    "    if n==1:\n",
    "        minmax.min=arr[0]\n",
    "        minmax.max=arr[0]\n",
    "    # if only 2 elements in array\n",
    "    if arr[0]>arr[1]:\n",
    "        minmax.min=arr[1]\n",
    "        minmax.max=arr[0]\n",
    "    else:\n",
    "        minmax.min=arr[0]\n",
    "        minmax.max=arr[1]\n",
    "    \n",
    "    # if more than 2 elements\n",
    "    for i in range(2,n):\n",
    "        if arr[i]>minmax.max:\n",
    "            minmax.max=arr[i]\n",
    "        elif arr[i]<minmax.min:\n",
    "            minmax.min=arr[i]\n",
    "    \n",
    "    return minmax\n",
    "\n",
    "if __name__ == '__main__':\n",
    "    arr = list(map(int,input(\"Enter elemenets\").split()))\n",
    "    n = len(arr)\n",
    "    minmax = getMinMax(arr,n)\n",
    "    print(f\"Minimum Element is {minmax.min}\\nMaximum element is {minmax.max}\")\n"
   ]
  },
  {
   "attachments": {},
   "cell_type": "markdown",
   "metadata": {},
   "source": [
    "<aside>\n",
    "💡 **Q2.** You are given an array prices where prices[i] is the price of a given stock on the ith day.\n",
    "\n",
    "You want to maximize your profit by choosing a single day to buy one stock and choosing a different day in the future to sell that stock.\n",
    "\n",
    "Return the maximum profit you can achieve from this transaction. If you cannot achieve any profit, return 0.\n",
    "\n",
    "**Example :**\n",
    "\n",
    "Input: prices = [7,1,5,3,6,4]\n",
    "\n",
    "Output: 5\n",
    "\n",
    "Explanation: Buy on day 2 (price = 1) and sell on day 5 (price = 6), profit = 6-1 = 5.\n",
    "\n",
    "Note that buying on day 2 and selling on day 1 is not allowed because you must buy before you sell.\n",
    "\n",
    "**Solution:**\n",
    "\n",
    "**Java**\n",
    "\n",
    "Code link :- https://pastebin.com/BNS5dH6C\n",
    "\n",
    "**Python**\n",
    "\n",
    "Code link :- https://pastebin.com/egp6WbvM\n",
    "\n",
    "**Javascript**\n",
    "\n",
    "Code link :- https://pastebin.com/67SsVhW7\n",
    "\n",
    "TC: O(n)\n",
    "\n",
    "SC : O(1)\n",
    "\n",
    "</aside>"
   ]
  },
  {
   "cell_type": "code",
   "execution_count": 6,
   "metadata": {},
   "outputs": [
    {
     "name": "stdout",
     "output_type": "stream",
     "text": [
      "Max profit is 8\n"
     ]
    }
   ],
   "source": [
    "class GetMaxProfit:\n",
    "    def maxProfit(self,prices:list,n:int) -> int:\n",
    "        max_profit=0\n",
    "        min_value = float('inf')\n",
    "        for i in range(0,n):\n",
    "            if min_value > prices[i]:\n",
    "                min_value = prices[i]\n",
    "            elif prices[i]-min_value > max_profit:\n",
    "                max_profit = prices[i]-min_value\n",
    "        return max_profit\n",
    "\n",
    "\n",
    "prices = list(map(int,input().split()))\n",
    "n=len(prices)\n",
    "obj = GetMaxProfit()\n",
    "print(f\"Max profit is {obj.maxProfit(prices,n)}\")"
   ]
  },
  {
   "attachments": {},
   "cell_type": "markdown",
   "metadata": {},
   "source": [
    "<aside>\n",
    "💡 **Q3.** Given an integer array nums, find a subarray that has the largest product, and return the product.\n",
    "\n",
    "The test cases are generated so that the answer will fit in a 32-bit integer.\n",
    "\n",
    "**Example:**\n",
    "\n",
    "Input: nums = [2,3,-2,4]\n",
    "\n",
    "Output: 6\n",
    "\n",
    "Explanation: [2,3] has the largest product 6.\n",
    "\n",
    "**Solution:**\n",
    "\n",
    "**Java**\n",
    "\n",
    "Code link :- https://pastebin.com/r0xp1KhC\n",
    "\n",
    "**Python:**\n",
    "\n",
    "Code link :- https://pastebin.com/ji94WCaX\n",
    "\n",
    "**Javascript**\n",
    "\n",
    "Code link :- https://pastebin.com/aiTB45sS\n",
    "\n",
    "TC : O(n)\n",
    "\n",
    "SC: O(1)\n",
    "\n",
    "</aside>"
   ]
  },
  {
   "cell_type": "code",
   "execution_count": 13,
   "metadata": {},
   "outputs": [
    {
     "name": "stdout",
     "output_type": "stream",
     "text": [
      "Maximum sub-array product is 324\n"
     ]
    }
   ],
   "source": [
    "class GetMaxProduct:\n",
    "    def get_max_product(self,arr:list,n:int) -> int:\n",
    "        if n==0:\n",
    "            return 0\n",
    "        max_so_far = arr[0]\n",
    "        min_so_far = arr[0]\n",
    "        result = max_so_far\n",
    "\n",
    "        for i in range(1,n):\n",
    "            curr = arr[i]\n",
    "            # if we cannot use temp here then in next line the min_so_far value can change\n",
    "            temp_max = max(curr,max_so_far*curr,min_so_far*curr) \n",
    "            min_so_far = min(curr,max_so_far*curr,min_so_far*curr)\n",
    "\n",
    "            max_so_far = temp_max \n",
    "\n",
    "            result = max(max_so_far,result)\n",
    "        return result\n",
    "arr = list(map(int,input().split()))\n",
    "obj = GetMaxProduct()\n",
    "print(f'Maximum sub-array product is {obj.get_max_product(arr,len(arr))}')"
   ]
  },
  {
   "attachments": {},
   "cell_type": "markdown",
   "metadata": {},
   "source": [
    "<aside>\n",
    "💡 **Q4.** Given an integer array nums, return all the triplets [nums[i], nums[j], nums[k]] such that i != j, i != k, and j != k, and nums[i] + nums[j] + nums[k] == 0.\n",
    "\n",
    "Notice that the solution set must not contain duplicate triplets.\n",
    "\n",
    "**Example:**\n",
    "\n",
    "Input: nums = [-1,0,1,2,-1,-4]\n",
    "\n",
    "Output: [[-1,-1,2],[-1,0,1]]\n",
    "\n",
    "Explanation:\n",
    "\n",
    "nums[0] + nums[1] + nums[2] = (-1) + 0 + 1 = 0.\n",
    "\n",
    "nums[1] + nums[2] + nums[4] = 0 + 1 + (-1) = 0.\n",
    "\n",
    "nums[0] + nums[3] + nums[4] = (-1) + 2 + (-1) = 0.\n",
    "\n",
    "The distinct triplets are [-1,0,1] and [-1,-1,2].\n",
    "\n",
    "Notice that the order of the output and the order of the triplets does not matter.\n",
    "\n",
    "**Solution:**\n",
    "\n",
    "**Java**\n",
    "\n",
    "Code link :- https://pastebin.com/GXbv3v9g\n",
    "\n",
    "**Python :**\n",
    "\n",
    "Code link :- https://pastebin.com/RadQa4mC\n",
    "\n",
    "**Javascript:**\n",
    "\n",
    "Code link :- https://pastebin.com/mQeMgCmp\n",
    "\n",
    "TC: O(n^2)\n",
    "\n",
    "SC : O(n) depending on which sorting algo is used\n",
    "\n",
    "</aside>"
   ]
  },
  {
   "cell_type": "code",
   "execution_count": 10,
   "metadata": {},
   "outputs": [
    {
     "name": "stdout",
     "output_type": "stream",
     "text": [
      "[[-5, 10], [1, 4], [2, 3]]\n"
     ]
    }
   ],
   "source": [
    "### First solve two sum problem \n",
    "\n",
    "## Solving using 2 sum approach\n",
    "\n",
    "def twoSum(arr:list,target:int):\n",
    "    left_ptr = arr[0]\n",
    "    right_ptr = arr[-1]\n",
    "    result = []\n",
    "    while left_ptr < right_ptr:\n",
    "        if left_ptr + right_ptr == target:\n",
    "            result.append([left_ptr,right_ptr])\n",
    "            left_ptr=arr[arr.index(left_ptr)+1]\n",
    "        elif left_ptr + right_ptr < target:\n",
    "            left_ptr=arr[arr.index(left_ptr)+1]\n",
    "        elif left_ptr + right_ptr > target:\n",
    "            right_ptr = arr[arr.index(right_ptr)-1]\n",
    "\n",
    "    return result\n",
    "\n",
    "\n",
    "print(twoSum([-5,1,2,3,4,10],5))\n",
    "\n",
    "\n",
    "\n"
   ]
  },
  {
   "cell_type": "code",
   "execution_count": 12,
   "metadata": {},
   "outputs": [
    {
     "name": "stdout",
     "output_type": "stream",
     "text": [
      "[[0, 1, -1]]\n"
     ]
    }
   ],
   "source": [
    "from typing import List\n",
    "def threeSum(nums:List[int]) -> List[List[int]]:\n",
    "    # sort the array\n",
    "    nums.sort()\n",
    "    res=[]\n",
    "    for i in range(len(nums)):\n",
    "        if nums[i]>0:\n",
    "            break\n",
    "        if i==0 or nums[i-1]!=nums[i]:\n",
    "            twoSum(nums,i,res)\n",
    "    return res\n",
    "def twoSum(nums,i,res):\n",
    "    left_ptr = i+1\n",
    "    right_ptr=len(nums)-1\n",
    "    while left_ptr < right_ptr:\n",
    "        sum=nums[left_ptr]+nums[right_ptr]+nums[i]\n",
    "        if sum<0:\n",
    "            left_ptr+=1\n",
    "        elif sum>0:\n",
    "            right_ptr-=1\n",
    "        else:\n",
    "            res.append([nums[left_ptr],nums[right_ptr],nums[i]])\n",
    "            left_ptr+=1\n",
    "            right_ptr-=1\n",
    "            while left_ptr < right_ptr and nums[left_ptr]==nums[left_ptr-1]:\n",
    "                left_ptr+=1\n",
    "\n",
    "        \n",
    "\n",
    "print(threeSum([-1,0,1,2,-4,-4]))\n",
    "\n"
   ]
  },
  {
   "attachments": {},
   "cell_type": "markdown",
   "metadata": {},
   "source": [
    "<aside>\n",
    "💡 **Q5.** Given an integer array nums and an integer k, return the kth largest element in the array. Note that it is the kth largest element in the sorted order, not the kth distinct element.\n",
    "\n",
    "**Example 1:**\n",
    "\n",
    "Input: nums = [3,2,1,5,6,4], k = 2\n",
    "\n",
    "Output: 5\n",
    "\n",
    "**Solution:**\n",
    "\n",
    "**Java :**\n",
    "\n",
    "Code link :- https://pastebin.com/mr8TFWQP\n",
    "\n",
    "**Python :**\n",
    "\n",
    "Code link : https://pastebin.com/AHyXcwrr\n",
    "\n",
    "**Javascript  :**\n",
    "\n",
    "Code link :- https://pastebin.com/1BUL28CK\n",
    "\n",
    "TC : O( n log k)\n",
    "\n",
    "TC : O( k)\n",
    "\n",
    "</aside>"
   ]
  },
  {
   "cell_type": "code",
   "execution_count": 14,
   "metadata": {},
   "outputs": [
    {
     "data": {
      "text/plain": [
       "[6, 5]"
      ]
     },
     "execution_count": 14,
     "metadata": {},
     "output_type": "execute_result"
    }
   ],
   "source": [
    "import heapq\n",
    "\n",
    "def find_kth_largestElement(nums,k):\n",
    "    return heapq.nlargest(k,nums)\n",
    "\n",
    "find_kth_largestElement([3,2,1,5,6,5],2)"
   ]
  },
  {
   "attachments": {},
   "cell_type": "markdown",
   "metadata": {},
   "source": [
    "<aside>\n",
    "💡 **Q6.** Given an integer array nums and an integer k, return the kth smallest element in the array. Note that it is the kth smallest element in the sorted order, not the kth distinct element.\n",
    "\n",
    "**Example 1:**\n",
    "\n",
    "Input: nums = [3,2,1,5,6,4], k = 2\n",
    "\n",
    "Output: 2\n",
    "\n",
    "**JAVA**\n",
    "\n",
    "Code link: https://pastebin.com/drqYCbLQ\n",
    "\n",
    "**PYTHON**\n",
    "\n",
    "Code link: https://pastebin.com/RdzmJ0VC\n",
    "\n",
    "**JS**\n",
    "\n",
    "Code link: https://pastebin.com/HbiKt6rk\n",
    "\n",
    "</aside>"
   ]
  },
  {
   "cell_type": "code",
   "execution_count": 16,
   "metadata": {},
   "outputs": [
    {
     "data": {
      "text/plain": [
       "2"
      ]
     },
     "execution_count": 16,
     "metadata": {},
     "output_type": "execute_result"
    }
   ],
   "source": [
    "import heapq\n",
    "def find_kth_smallestElement(nums,k):\n",
    "    return heapq.nsmallest(k,nums)\n",
    "\n",
    "find_kth_smallestElement([3,2,1,5,4,6],2)[-1]"
   ]
  },
  {
   "cell_type": "code",
   "execution_count": null,
   "metadata": {},
   "outputs": [],
   "source": []
  }
 ],
 "metadata": {
  "kernelspec": {
   "display_name": "base",
   "language": "python",
   "name": "python3"
  },
  "language_info": {
   "codemirror_mode": {
    "name": "ipython",
    "version": 3
   },
   "file_extension": ".py",
   "mimetype": "text/x-python",
   "name": "python",
   "nbconvert_exporter": "python",
   "pygments_lexer": "ipython3",
   "version": "3.9.12"
  },
  "orig_nbformat": 4
 },
 "nbformat": 4,
 "nbformat_minor": 2
}
