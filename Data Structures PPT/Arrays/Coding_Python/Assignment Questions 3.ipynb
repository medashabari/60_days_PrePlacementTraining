{
 "cells": [
  {
   "cell_type": "markdown",
   "id": "02999f08",
   "metadata": {},
   "source": [
    "**Question 1**\n",
    "Given an integer array nums of length n and an integer target, find three integers\n",
    "in nums such that the sum is closest to the target.\n",
    "Return the sum of the three integers.\n",
    "\n",
    "You may assume that each input would have exactly one solution.\n",
    "\n",
    "**Example 1:**\n",
    "Input: nums = [-1,2,1,-4], target = 1\n",
    "Output: 2\n",
    "\n",
    "**Explanation:** The sum that is closest to the target is 2. (-1 + 2 + 1 = 2)."
   ]
  },
  {
   "cell_type": "code",
   "execution_count": 7,
   "id": "6a80bc42",
   "metadata": {},
   "outputs": [],
   "source": [
    "class closestSum:\n",
    "    def __init__(self):\n",
    "        self.closest=float('inf')\n",
    "    def threeSum(self,arr,target):\n",
    "        arr.sort()\n",
    "        for i in range(len(arr)):\n",
    "            self.twoSum(arr,i,target)\n",
    "        return self.closest if self.closest != float('inf') else -1\n",
    "    \n",
    "    def twoSum(self,arr,i,target):\n",
    "        low=i+1\n",
    "        high=len(arr)-1\n",
    "        while low<high:\n",
    "            curr_sum = arr[i]+arr[low]+arr[high]\n",
    "            if curr_sum == target:\n",
    "                self.closest = curr_sum\n",
    "                return\n",
    "            diff1  = abs(target-curr_sum)\n",
    "            diff2 = abs(target-self.closest)\n",
    "            if diff1<diff2:\n",
    "                self.closest = curr_sum\n",
    "            if curr_sum < target:\n",
    "                low+=1\n",
    "            else:\n",
    "                high-=1"
   ]
  },
  {
   "cell_type": "code",
   "execution_count": 11,
   "id": "a2cf75f2",
   "metadata": {},
   "outputs": [
    {
     "name": "stdout",
     "output_type": "stream",
     "text": [
      " The closest sum is 2\n"
     ]
    }
   ],
   "source": [
    "cs = closestSum()\n",
    "print(f\" The closest sum is {cs.threeSum([-1,2,1,-4],2)}\")"
   ]
  },
  {
   "cell_type": "markdown",
   "id": "f9f88cf3",
   "metadata": {},
   "source": [
    "**Question 2**\n",
    "\n",
    "- Given an array nums of n integers, return an array of all the unique quadruplets\n",
    "[nums[a], nums[b], nums[c], nums[d]] such that:\n",
    "           ● 0 <= a, b, c, d < n\n",
    "           ● a, b, c, and d are distinct.\n",
    "           ● nums[a] + nums[b] + nums[c] + nums[d] == target\n",
    "\n",
    "You may return the answer in any order.\n",
    "\n",
    "**Example 1:**\n",
    "\n",
    "**Input:** nums = [1,0,-1,0,-2,2], target = 0\n",
    "\n",
    "**Output:** [[-2,-1,1,2],[-2,0,0,2],[-1,0,0,1]]"
   ]
  },
  {
   "cell_type": "code",
   "execution_count": 34,
   "id": "bfdaf8c0",
   "metadata": {},
   "outputs": [],
   "source": [
    "class quadruplets:\n",
    "    def __init__(self):\n",
    "        self.result=[]\n",
    "    def find_quadruplets(self,nums,target):\n",
    "        nums.sort()\n",
    "        for i in range(len(nums) - 3):\n",
    "            if i > 0 and nums[i] == nums[i - 1]:\n",
    "                continue\n",
    "            for j in range(i + 1, len(nums) - 2):\n",
    "                if j > i + 1 and nums[j] == nums[j - 1]:\n",
    "                    continue\n",
    "                low = j + 1\n",
    "                high = len(nums) - 1\n",
    "                while low < high:\n",
    "                    curr_sum = nums[i] + nums[j] + nums[low] + nums[high]\n",
    "                    if curr_sum < target:\n",
    "                        low += 1\n",
    "                    elif curr_sum > target:\n",
    "                        high -= 1\n",
    "                    else:\n",
    "                        self.result.append([nums[i], nums[j], nums[low], nums[high]])\n",
    "                        low += 1\n",
    "                        high -= 1\n",
    "                        while low < high and nums[low] == nums[low - 1]:\n",
    "                            low += 1\n",
    "                        while low < high and nums[high] == nums[high + 1]:\n",
    "                            high -= 1\n",
    "        return self.result\n",
    "    \n",
    "\n",
    "                                \n"
   ]
  },
  {
   "cell_type": "code",
   "execution_count": 36,
   "id": "23f2ec6b",
   "metadata": {},
   "outputs": [
    {
     "data": {
      "text/plain": [
       "[[-2, -1, 1, 2], [-2, 0, 0, 2], [-1, 0, 0, 1]]"
      ]
     },
     "execution_count": 36,
     "metadata": {},
     "output_type": "execute_result"
    }
   ],
   "source": [
    "quadra = quadruplets()\n",
    "quadra.find_quadruplets([1,0,-1,0,-2,2],0)"
   ]
  },
  {
   "cell_type": "markdown",
   "id": "a32916ac",
   "metadata": {},
   "source": [
    "\n",
    "💡 **Question 3**\n",
    "A permutation of an array of integers is an arrangement of its members into a\n",
    "sequence or linear order.\n",
    "\n",
    "For example, for arr = [1,2,3], the following are all the permutations of arr:\n",
    "[1,2,3], [1,3,2], [2, 1, 3], [2, 3, 1], [3,1,2], [3,2,1].\n",
    "\n",
    "The next permutation of an array of integers is the next lexicographically greater\n",
    "permutation of its integer. More formally, if all the permutations of the array are\n",
    "sorted in one container according to their lexicographical order, then the next\n",
    "permutation of that array is the permutation that follows it in the sorted container.\n",
    "\n",
    "If such an arrangement is not possible, the array must be rearranged as the\n",
    "lowest possible order (i.e., sorted in ascending order).\n",
    "\n",
    "● For example, the next permutation of arr = [1,2,3] is [1,3,2].\n",
    "● Similarly, the next permutation of arr = [2,3,1] is [3,1,2].\n",
    "● While the next permutation of arr = [3,2,1] is [1,2,3] because [3,2,1] does not\n",
    "have a lexicographical larger rearrangement.\n",
    "\n",
    "Given an array of integers nums, find the next permutation of nums.\n",
    "The replacement must be in place and use only constant extra memory.\n",
    "\n",
    "**Example 1:**\n",
    "Input: nums = [1,2,3]\n",
    "Output: [1,3,2]\n",
    "\n"
   ]
  },
  {
   "cell_type": "code",
   "execution_count": 42,
   "id": "7b8a0049",
   "metadata": {},
   "outputs": [
    {
     "name": "stdout",
     "output_type": "stream",
     "text": [
      "[1, 3, 2]\n"
     ]
    }
   ],
   "source": [
    "def next_permutation(nums):\n",
    "    i = len(nums) - 2\n",
    "    while i >= 0 and nums[i + 1] <= nums[i]:\n",
    "        i -= 1\n",
    "    if i >= 0:\n",
    "        j = len(nums) - 1\n",
    "        while nums[j] <= nums[i]:\n",
    "            j -= 1\n",
    "        nums[i], nums[j] = nums[j], nums[i]\n",
    "    reverse(nums, i + 1)\n",
    "    return nums\n",
    " \n",
    "def reverse(nums, start):\n",
    "    i, j = start, len(nums) - 1\n",
    "    while i < j:\n",
    "        nums[i], nums[j] = nums[j], nums[i]\n",
    "        i += 1\n",
    "        j -= 1\n",
    "\n",
    "print(next_permutation([1,2,3]))\n"
   ]
  },
  {
   "cell_type": "markdown",
   "id": "ada226e2",
   "metadata": {},
   "source": [
    "**Question 4**\n",
    "\n",
    "Given a sorted array of distinct integers and a target value, return the index if the\n",
    "target is found. If not, return the index where it would be if it were inserted in\n",
    "order.\n",
    "\n",
    "You must write an algorithm with O(log n) runtime complexity.\n",
    "\n",
    "Example 1:\n",
    "Input: nums = [1,3,5,6], target = 5\n",
    "Output: 2"
   ]
  },
  {
   "cell_type": "code",
   "execution_count": 44,
   "id": "d1c456de",
   "metadata": {},
   "outputs": [
    {
     "name": "stdout",
     "output_type": "stream",
     "text": [
      "Search Element found at the index 2\n"
     ]
    }
   ],
   "source": [
    "## Using Divide and Conquer Approach using Binary search method\n",
    "## Input is sorted is Array \n",
    "from typing import List\n",
    "class BinarySeach:\n",
    "    def searchElement(self,arr:List[int],target:int) -> int:\n",
    "        low=0\n",
    "        high = len(arr)-1\n",
    "        while low<=high:\n",
    "            mid=(low+high)//2\n",
    "            if arr[mid]==target:\n",
    "                return mid\n",
    "            elif arr[mid] < target:\n",
    "                low=mid+1\n",
    "            elif arr[mid] > target:\n",
    "                high = mid-1\n",
    "        return -1\n",
    "\n",
    "bs = BinarySeach()\n",
    "print(f\"Search Element found at the index {bs.searchElement([1,3,5,6],5)}\")\n",
    "        "
   ]
  },
  {
   "cell_type": "markdown",
   "id": "692e5c0e",
   "metadata": {},
   "source": [
    "\n",
    "💡 **Question 5**\n",
    "You are given a large integer represented as an integer array digits, where each\n",
    "digits[i] is the ith digit of the integer. The digits are ordered from most significant\n",
    "to least significant in left-to-right order. The large integer does not contain any\n",
    "leading 0's.\n",
    "\n",
    "Increment the large integer by one and return the resulting array of digits.\n",
    "\n",
    "**Example 1:**\n",
    "Input: digits = [1,2,3]\n",
    "Output: [1,2,4]\n",
    "\n",
    "**Explanation:** The array represents the integer 123.\n",
    "Incrementing by one gives 123 + 1 = 124.\n",
    "Thus, the result should be [1,2,4].\n",
    "\n",
    "</aside>"
   ]
  },
  {
   "cell_type": "code",
   "execution_count": 46,
   "id": "28e988a6",
   "metadata": {},
   "outputs": [
    {
     "data": {
      "text/plain": [
       "[1, 2, 4]"
      ]
     },
     "execution_count": 46,
     "metadata": {},
     "output_type": "execute_result"
    }
   ],
   "source": [
    "def incrementByOne(arr:List[int]) -> List[int]:\n",
    "    num = ''\n",
    "    for i in arr:\n",
    "        num+=str(i)\n",
    "    num = int(num)+1\n",
    "    res_arr=[]\n",
    "    while num!=0:\n",
    "        res_arr.append(num%10)\n",
    "        num//=10\n",
    "    return res_arr[::-1]\n",
    "\n",
    "incrementByOne([1,2,3])"
   ]
  },
  {
   "cell_type": "markdown",
   "id": "78d615f1",
   "metadata": {},
   "source": [
    "**Question 6**\n",
    "Given a non-empty array of integers nums, every element appears twice except\n",
    "for one. Find that single one.\n",
    "\n",
    "You must implement a solution with a linear runtime complexity and use only\n",
    "constant extra space.\n",
    "\n",
    "Example 1:\n",
    "Input: nums = [2,2,1]\n",
    "Output: 1"
   ]
  },
  {
   "cell_type": "code",
   "execution_count": 47,
   "id": "e4fd6ff4",
   "metadata": {},
   "outputs": [
    {
     "data": {
      "text/plain": [
       "1"
      ]
     },
     "execution_count": 47,
     "metadata": {},
     "output_type": "execute_result"
    }
   ],
   "source": [
    "def findUnique(nums):\n",
    "    for i in set(nums):\n",
    "        if nums.count(i)==1:\n",
    "            return i\n",
    "        \n",
    "findUnique([2,2,1])"
   ]
  },
  {
   "cell_type": "markdown",
   "id": "2de98c6a",
   "metadata": {},
   "source": [
    "**Question 7**\n",
    "You are given an inclusive range [lower, upper] and a sorted unique integer array\n",
    "nums, where all elements are within the inclusive range.\n",
    "\n",
    "A number x is considered missing if x is in the range [lower, upper] and x is not in\n",
    "nums.\n",
    "\n",
    "Return the shortest sorted list of ranges that exactly covers all the missing\n",
    "numbers. That is, no element of nums is included in any of the ranges, and each\n",
    "missing number is covered by one of the ranges.\n",
    "\n",
    "Example 1:\n",
    "Input: nums = [0,1,3,50,75], lower = 0, upper = 99\n",
    "Output: [[2,2],[4,49],[51,74],[76,99]]\n",
    "\n",
    "Explanation: The ranges are:\n",
    "[2,2]\n",
    "[4,49]\n",
    "[51,74]\n",
    "[76,99]"
   ]
  },
  {
   "cell_type": "code",
   "execution_count": 2,
   "id": "aefcf231",
   "metadata": {},
   "outputs": [
    {
     "data": {
      "text/plain": [
       "[[2, 2], [4, 49], [51, 74], [76, 99]]"
      ]
     },
     "execution_count": 2,
     "metadata": {},
     "output_type": "execute_result"
    }
   ],
   "source": [
    "def findMissingRanges(nums, lower, upper):\n",
    "    result = []\n",
    "    start = lower\n",
    "\n",
    "    for num in nums:\n",
    "        if num > start:\n",
    "            if num - 1 == start:\n",
    "                result.append([start,start])\n",
    "            else:\n",
    "                result.append([start, num - 1])\n",
    "        start = num + 1\n",
    "\n",
    "    if start <= upper:\n",
    "        if upper == start:\n",
    "            result.append([start])\n",
    "        else:\n",
    "            result.append([start, upper])\n",
    "\n",
    "    return result\n",
    "findMissingRanges([0,1,3,50,75],0,99)\n",
    "  \n",
    "            "
   ]
  },
  {
   "cell_type": "markdown",
   "id": "0d1c0442",
   "metadata": {},
   "source": [
    "**Question 8**\n",
    "Given an array of meeting time intervals where intervals[i] = [starti, endi],\n",
    "determine if a person could attend all meetings.\n",
    "\n",
    "Example 1:\n",
    "Input: intervals = [[0,30],[5,10],[15,20]]\n",
    "Output: false"
   ]
  },
  {
   "cell_type": "code",
   "execution_count": 4,
   "id": "23725240",
   "metadata": {},
   "outputs": [
    {
     "name": "stdout",
     "output_type": "stream",
     "text": [
      "False\n"
     ]
    }
   ],
   "source": [
    "from typing import List\n",
    "def possible_intervals(arr:List[List[int]]) -> bool:\n",
    "    \n",
    "    for i in range(1,len(arr)):\n",
    "        if arr[i-1][1]>arr[i][0]:\n",
    "            return False\n",
    "    else:\n",
    "        return True\n",
    "\n",
    "print(possible_intervals([[0,30],[5,10],[15,20]]))"
   ]
  },
  {
   "cell_type": "code",
   "execution_count": null,
   "id": "56bc60bd",
   "metadata": {},
   "outputs": [],
   "source": []
  }
 ],
 "metadata": {
  "kernelspec": {
   "display_name": "Python 3 (ipykernel)",
   "language": "python",
   "name": "python3"
  },
  "language_info": {
   "codemirror_mode": {
    "name": "ipython",
    "version": 3
   },
   "file_extension": ".py",
   "mimetype": "text/x-python",
   "name": "python",
   "nbconvert_exporter": "python",
   "pygments_lexer": "ipython3",
   "version": "3.9.12"
  }
 },
 "nbformat": 4,
 "nbformat_minor": 5
}
