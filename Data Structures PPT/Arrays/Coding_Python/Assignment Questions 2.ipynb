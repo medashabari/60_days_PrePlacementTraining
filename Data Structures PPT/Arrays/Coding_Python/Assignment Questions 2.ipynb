{
 "cells": [
  {
   "cell_type": "markdown",
   "id": "9958cf5c",
   "metadata": {},
   "source": [
    "\n",
    "💡 **Question 1**\n",
    "Given an integer array nums of 2n integers, group these integers into n pairs (a1, b1), (a2, b2),..., (an, bn) such that the sum of min(ai, bi) for all i is maximized. Return the maximized sum.\n",
    "\n",
    "**Example 1:**\n",
    "Input: nums = [1,4,3,2]\n",
    "Output: 4\n",
    "\n",
    "**Explanation:** All possible pairings (ignoring the ordering of elements) are:\n",
    "\n",
    "1. (1, 4), (2, 3) -> min(1, 4) + min(2, 3) = 1 + 2 = 3\n",
    "2. (1, 3), (2, 4) -> min(1, 3) + min(2, 4) = 1 + 2 = 3\n",
    "3. (1, 2), (3, 4) -> min(1, 2) + min(3, 4) = 1 + 3 = 4\n",
    "So the maximum possible sum is 4\n"
   ]
  },
  {
   "cell_type": "code",
   "execution_count": 3,
   "id": "57ab7c93",
   "metadata": {},
   "outputs": [
    {
     "name": "stdout",
     "output_type": "stream",
     "text": [
      "1 4 3 2\n",
      "Maximum possible sum is 4\n"
     ]
    }
   ],
   "source": [
    "from typing import List\n",
    "class MaximumPairSum:\n",
    "    def maximumSum(self,nums:List[int]) ->int:\n",
    "        max_sum=0\n",
    "        nums.sort()\n",
    "        for i in range(0,len(nums),2):\n",
    "            max_sum+=nums[i]\n",
    "        return max_sum\n",
    "    \n",
    "maxSum = MaximumPairSum()\n",
    "print(f\"Maximum possible sum is {maxSum.maximumSum(list(map(int,input().split())))}\")"
   ]
  },
  {
   "cell_type": "markdown",
   "id": "f9dd535d",
   "metadata": {},
   "source": [
    "**Question 2**\n",
    "Alice has n candies, where the ith candy is of type candyType[i]. Alice noticed that she started to gain weight, so she visited a doctor. \n",
    "\n",
    "The doctor advised Alice to only eat n / 2 of the candies she has (n is always even). Alice likes her candies very much, and she wants to eat the maximum number of different types of candies while still following the doctor's advice. \n",
    "\n",
    "Given the integer array candyType of length n, return the maximum number of different types of candies she can eat if she only eats n / 2 of them.\n",
    "\n",
    "**Example 1:**\n",
    "Input: candyType = [1,1,2,2,3,3]\n",
    "Output: 3\n",
    "\n",
    "**Explanation:** Alice can only eat 6 / 2 = 3 candies. Since there are only 3 types, she can eat one of each type."
   ]
  },
  {
   "cell_type": "code",
   "execution_count": 5,
   "id": "e4aae560",
   "metadata": {},
   "outputs": [
    {
     "name": "stdout",
     "output_type": "stream",
     "text": [
      "1 2 3\n",
      "Maximum number of different type of candies Alice can eat are 1\n"
     ]
    }
   ],
   "source": [
    "from typing import List\n",
    "class AliceCandies:\n",
    "    def maxDifferentCandies(self,nums:List[int]) -> int:\n",
    "        return min(len(nums)//2,len(set(nums)))\n",
    "        \n",
    "aliceCandies = AliceCandies()\n",
    "print(f\"Maximum number of different type of candies Alice can eat are {aliceCandies.maxDifferentCandies(list(map(int,input().split())))}\")\n",
    "            "
   ]
  },
  {
   "cell_type": "markdown",
   "id": "cef8b55a",
   "metadata": {},
   "source": [
    "**Question 3**\n",
    "We define a harmonious array as an array where the difference between its maximum value\n",
    "and its minimum value is exactly 1.\n",
    "\n",
    "Given an integer array nums, return the length of its longest harmonious subsequence\n",
    "among all its possible subsequences.\n",
    "\n",
    "A subsequence of an array is a sequence that can be derived from the array by deleting some or no elements without changing the order of the remaining elements.\n",
    "\n",
    "**Example 1:**\n",
    "**Input**: nums = [1,3,2,2,5,2,3,7]\n",
    "**Output**: 5\n",
    "\n",
    "**Explanation**: The longest harmonious subsequence is [3,2,2,2,3]."
   ]
  },
  {
   "cell_type": "code",
   "execution_count": 11,
   "id": "052cca49",
   "metadata": {},
   "outputs": [
    {
     "name": "stdout",
     "output_type": "stream",
     "text": [
      "1 3 2 2 5 2 3 7\n",
      "Maximum length of longest Harmonius subequence is 5\n"
     ]
    }
   ],
   "source": [
    "class Harmonious_subsequence:\n",
    "    def find_Longest_Harmonious_subsequence(self,arr:List[int]) -> int:\n",
    "        freq_counter={}\n",
    "        max_length=0\n",
    "        for i in arr:\n",
    "            if i in freq_counter:\n",
    "                freq_counter[i]+=1\n",
    "            else:\n",
    "                freq_counter[i]=1\n",
    "\n",
    "        for key in freq_counter.keys():\n",
    "            if key+1 in freq_counter and freq_counter[key]+freq_counter[key+1]>max_length:\n",
    "                max_length=freq_counter[key]+freq_counter[key+1]\n",
    "        return max_length\n",
    "        \n",
    "\n",
    "hs = Harmonious_subsequence()\n",
    "print(f\"Maximum length of longest Harmonius subequence is {hs.find_Longest_Harmonious_subsequence(list(map(int,input().split())))}\")\n",
    "            "
   ]
  },
  {
   "cell_type": "markdown",
   "id": "30660914",
   "metadata": {},
   "source": [
    "**Question 4**\n",
    "You have a long flowerbed in which some of the plots are planted, and some are not.\n",
    "However, flowers cannot be planted in adjacent plots.\n",
    "Given an integer array flowerbed containing 0's and 1's, where 0 means empty and 1 means not empty, and an integer n, return true if n new flowers can be planted in the flowerbed without violating the no-adjacent-flowers rule and false otherwise.\n",
    "\n",
    "**Example 1:**\n",
    "Input: flowerbed = [1,0,0,0,1], n = 1\n",
    "Output: true"
   ]
  },
  {
   "cell_type": "code",
   "execution_count": 22,
   "id": "e7417ffe",
   "metadata": {},
   "outputs": [
    {
     "name": "stdout",
     "output_type": "stream",
     "text": [
      "1 0 0 0 1\n",
      "1\n",
      "1 Flower Beds can be planted\n"
     ]
    }
   ],
   "source": [
    "class FlowerBed:\n",
    "    def numberOfPossibleFB(self,arr:List[int],n:int) -> bool:\n",
    "        count=0\n",
    "        if arr[0]==0  and arr[1]==0:\n",
    "            count+=1\n",
    "        if arr[-1]==0 and arr[-2]==0:\n",
    "            count+=1\n",
    "        for i in range(1,len(arr)-1):\n",
    "            if arr[i-1] ==0 and arr[i+1]==0:\n",
    "                count+=1\n",
    "\n",
    "        if n==count or n<count:\n",
    "            return True\n",
    "        else:\n",
    "            return False\n",
    "    \n",
    "fb=FlowerBed()\n",
    "arr = list(map(int,input().split()))\n",
    "n=int(input())\n",
    "res = fb.numberOfPossibleFB(arr,n)\n",
    "if res:\n",
    "    print(f\"{n} Flower Beds can be planted\")\n",
    "else:\n",
    "     print(f\"{n} Flower Beds cannot be planted\")"
   ]
  },
  {
   "cell_type": "markdown",
   "id": "515ba55a",
   "metadata": {},
   "source": [
    "**Question 5**\n",
    "Given an integer array nums, find three numbers whose product is maximum and return the maximum product.\n",
    "\n",
    "**Example 1:**\n",
    "Input: nums = [1,2,3]\n",
    "Output: 6"
   ]
  },
  {
   "cell_type": "code",
   "execution_count": 30,
   "id": "34e9d33e",
   "metadata": {},
   "outputs": [
    {
     "name": "stdout",
     "output_type": "stream",
     "text": [
      "1 2 3\n",
      "Maximum three number product 6\n"
     ]
    }
   ],
   "source": [
    "class MaximumProduct:\n",
    "    def threeProduct(self,arr:List[int]) -> int:\n",
    "        res=[0]\n",
    "        arr.sort()\n",
    "        for i in range(len(arr)):\n",
    "            self.twoProduct(arr,i,res)\n",
    "        return res[0]\n",
    "\n",
    "    def twoProduct(self,arr,i,res):\n",
    "        low=i+1\n",
    "        high = len(arr)-1\n",
    "        while low<high:\n",
    "            if res[0]<arr[i]*arr[low]*arr[high]:\n",
    "                res[0]=arr[i]*arr[low]*arr[high]\n",
    "            low=low+1\n",
    "    \n",
    "mp = MaximumProduct()\n",
    "print(f\"Maximum three number product {mp.threeProduct(list(map(int,input().split())))}\")\n"
   ]
  },
  {
   "cell_type": "code",
   "execution_count": 45,
   "id": "3096de0c",
   "metadata": {},
   "outputs": [
    {
     "name": "stdout",
     "output_type": "stream",
     "text": [
      "7 9 10 -9 -8\n",
      "Maximum three number product 720\n"
     ]
    }
   ],
   "source": [
    "## Here we know that we need only maximum product of three numbers a simple approach would be\n",
    "class MaximumProduct:\n",
    "    def threeProduct(self,arr:List[int]) -> int:\n",
    "        arr.sort()\n",
    "        n=len(arr)\n",
    "        return max(arr[0]*arr[1]*arr[n-1],arr[n-3]*arr[n-2]*arr[n-1])\n",
    "mp = MaximumProduct()\n",
    "print(f\"Maximum three number product {mp.threeProduct(list(map(int,input().split())))}\")"
   ]
  },
  {
   "cell_type": "markdown",
   "id": "150f6eaf",
   "metadata": {},
   "source": [
    "**Question 6**\n",
    "Given an array of integers nums which is sorted in ascending order, and an integer target,\n",
    "write a function to search target in nums. If target exists, then return its index. Otherwise,\n",
    "return -1.\n",
    "\n",
    "You must write an algorithm with O(log n) runtime complexity.\n",
    "\n",
    "**Input:** nums = [-1,0,3,5,9,12], target = 9\n",
    "**Output:** 4\n",
    "\n",
    "**Explanation**: 9 exists in nums and its index is 4"
   ]
  },
  {
   "cell_type": "code",
   "execution_count": 34,
   "id": "bdf38b55",
   "metadata": {},
   "outputs": [
    {
     "name": "stdout",
     "output_type": "stream",
     "text": [
      "-1 0 3 5 9 12\n",
      "9\n",
      "The target 9 found at index 4\n"
     ]
    }
   ],
   "source": [
    "class Search:\n",
    "    def search_target(self,arr:List[int],target:int)->int:\n",
    "        low=0\n",
    "        high = len(arr)-1\n",
    "        \n",
    "        while low<=high:\n",
    "            mid = (low+high)//2\n",
    "            if arr[mid]==target:\n",
    "                return mid\n",
    "            elif arr[mid]<target:\n",
    "                low=mid+1\n",
    "            else:\n",
    "                high=mid-1\n",
    "        return -1\n",
    "\n",
    "s=Search()\n",
    "arr=list(map(int,input().split()))\n",
    "target = int(input())\n",
    "index = s.search_target(arr,target)\n",
    "if index!=-1:\n",
    "    print(f\"The target {target} found at index {index}\")\n",
    "else:\n",
    "    print(f\"Target not found {index}\")\n",
    "\n",
    "\n",
    "    "
   ]
  },
  {
   "cell_type": "markdown",
   "id": "733a7176",
   "metadata": {},
   "source": [
    "**Question 7**\n",
    "An array is monotonic if it is either monotone increasing or monotone decreasing.\n",
    "\n",
    "An array nums is monotone increasing if for all i <= j, nums[i] <= nums[j]. An array nums is\n",
    "monotone decreasing if for all i <= j, nums[i] >= nums[j].\n",
    "\n",
    "Given an integer array nums, return true if the given array is monotonic, or false otherwise.\n",
    "\n",
    "**Example 1:**\n",
    "**Input:** nums = [1,2,2,3]\n",
    "**Output:* true"
   ]
  },
  {
   "cell_type": "code",
   "execution_count": 41,
   "id": "e92aa54c",
   "metadata": {},
   "outputs": [
    {
     "name": "stdout",
     "output_type": "stream",
     "text": [
      "1 2 2 3\n",
      "The array is monotonic\n"
     ]
    }
   ],
   "source": [
    "class FindMonotonic:\n",
    "    def monotonic(self,arr):\n",
    "        mono_increase=1\n",
    "        for i in range(1,len(arr)):\n",
    "            if arr[i-1]<=arr[i]:\n",
    "                continue\n",
    "            else:\n",
    "                mono_increase=0\n",
    "                break\n",
    "\n",
    "        mono_decrese=1\n",
    "        for i in range(1,len(arr)):\n",
    "            if arr[i-1]>=arr[i]:\n",
    "                continue\n",
    "            else:\n",
    "                mono_decrese=0\n",
    "                break\n",
    "\n",
    "        if mono_decrese or mono_increase:\n",
    "            return True\n",
    "        else:\n",
    "            return False\n",
    "        \n",
    "fm = FindMonotonic()\n",
    "if fm.monotonic(list(map(int,input().split()))):\n",
    "    print(\"The array is monotonic\")\n",
    "else:\n",
    "    print(\"The arry is not monotonic\")\n",
    "            "
   ]
  },
  {
   "cell_type": "markdown",
   "id": "c71f9474",
   "metadata": {},
   "source": [
    "**Question 8**\n",
    "You are given an integer array nums and an integer k.\n",
    "\n",
    "In one operation, you can choose any index i where 0 <= i < nums.length and change nums[i] to nums[i] + x where x is an integer from the range [-k, k]. You can apply this operation at most once for each index i.\n",
    "\n",
    "The score of nums is the difference between the maximum and minimum elements in nums.\n",
    "\n",
    "Return the minimum score of nums after applying the mentioned operation at most once for each index in it.\n",
    "\n",
    "**Example 1:**\n",
    "**Input**: nums = [1], k = 0\n",
    "**Output**: 0\n",
    "\n",
    "**Explanation:** The score is max(nums) - min(nums) = 1 - 1 = 0."
   ]
  },
  {
   "cell_type": "code",
   "execution_count": 43,
   "id": "00ef156d",
   "metadata": {},
   "outputs": [
    {
     "data": {
      "text/plain": [
       "0"
      ]
     },
     "execution_count": 43,
     "metadata": {},
     "output_type": "execute_result"
    }
   ],
   "source": [
    "def min_Score(arr,k):\n",
    "    scores=[]\n",
    "    for i in range(len(arr)):\n",
    "        copy_arr = arr.copy()\n",
    "        copy_arr[i]=copy_arr[i]+k\n",
    "        scores.append(max(copy_arr)-min(copy_arr))\n",
    "    return min(scores)\n",
    "\n",
    "min_Score([1],0)"
   ]
  }
 ],
 "metadata": {
  "kernelspec": {
   "display_name": "Python 3 (ipykernel)",
   "language": "python",
   "name": "python3"
  },
  "language_info": {
   "codemirror_mode": {
    "name": "ipython",
    "version": 3
   },
   "file_extension": ".py",
   "mimetype": "text/x-python",
   "name": "python",
   "nbconvert_exporter": "python",
   "pygments_lexer": "ipython3",
   "version": "3.9.12"
  }
 },
 "nbformat": 4,
 "nbformat_minor": 5
}
