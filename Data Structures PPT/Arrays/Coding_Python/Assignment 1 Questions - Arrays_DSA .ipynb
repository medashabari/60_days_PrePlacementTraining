{
 "cells": [
  {
   "cell_type": "markdown",
   "id": "d2f94312",
   "metadata": {},
   "source": [
    "# <center> Assignment 1 Questions - Arrays | DSA </center>"
   ]
  },
  {
   "cell_type": "markdown",
   "id": "af6b93a0",
   "metadata": {},
   "source": [
    "\n",
    "💡 **Q1.** Given an array of integers nums and an integer target, return indices of the two numbers such that they add up to target.\n",
    "\n",
    "You may assume that each input would have exactly one solution, and you may not use the same element twice.\n",
    "\n",
    "You can return the answer in any order.\n",
    "\n",
    "**Example:**\n",
    "Input: nums = [2,7,11,15], target = 9\n",
    "Output0 [0,1]\n",
    "\n",
    "**Explanation:** Because nums[0] + nums[1] == 9, we return [0, 1]\n",
    "\n"
   ]
  },
  {
   "cell_type": "code",
   "execution_count": 11,
   "id": "f0cf250d",
   "metadata": {},
   "outputs": [
    {
     "name": "stdout",
     "output_type": "stream",
     "text": [
      "[0, 1]\n"
     ]
    }
   ],
   "source": [
    "## USING TWO POINTER APPROACH\n",
    "## Assuming the input array is sorted.\n",
    "\n",
    "from typing import List\n",
    "class TargetSum:\n",
    "    def targetSumIndices(self,nums:List[int],target:int)->List[int]:\n",
    "        # initilize left and right pointers\n",
    "        left_ptr = 0\n",
    "        right_ptr = len(nums)-1\n",
    "        \n",
    "        while left_ptr < right_ptr:\n",
    "            if nums[left_ptr]+nums[right_ptr]<target:\n",
    "                left_ptr+=1\n",
    "            elif nums[left_ptr]+nums[right_ptr]>target:\n",
    "                right_ptr-=1\n",
    "            else:\n",
    "                return [left_ptr,right_ptr] # return indices for the found target sum\n",
    "            \n",
    "        return [] # return Empty list if target sum is not found\n",
    "\n",
    "targetSum = TargetSum()\n",
    "print(targetSum.targetSumIndices([2,7,11,15],9))"
   ]
  },
  {
   "cell_type": "code",
   "execution_count": 14,
   "id": "81d0de6c",
   "metadata": {},
   "outputs": [
    {
     "name": "stdout",
     "output_type": "stream",
     "text": [
      "[1, 3]\n"
     ]
    }
   ],
   "source": [
    "## Using Complement Approach if array is not in sorted order\n",
    "\n",
    "from typing import List\n",
    "\n",
    "class ComplementApproach:\n",
    "    def targetSumIndices(self,nums:List[int],target:int) -> List[int]:\n",
    "        \n",
    "        # Initialize a Hash Map\n",
    "        element_map = {}\n",
    "        \n",
    "        for i,num in enumerate(nums):\n",
    "            complement = target-num\n",
    "            \n",
    "            if complement in element_map: # checking for the complement is available in element map\n",
    "                return [element_map[complement],i]\n",
    "\n",
    "            element_map[num]=i # Strong element as key and index as value\n",
    "            \n",
    "        return []\n",
    "        \n",
    "\n",
    "ComplementApproach = ComplementApproach()\n",
    "print(ComplementApproach.targetSumIndices([3,1,9,10,4,6],11))"
   ]
  },
  {
   "cell_type": "markdown",
   "id": "f7f464e5",
   "metadata": {},
   "source": [
    "\n",
    "💡 **Q2.** Given an integer array nums and an integer val, remove all occurrences of val in nums in-place. The order of the elements may be changed. Then return the number of elements in nums which are not equal to val.\n",
    "\n",
    "Consider the number of elements in nums which are not equal to val be k, to get accepted, you need to do the following things:\n",
    "\n",
    "- Change the array nums such that the first k elements of nums contain the elements which are not equal to val. The remaining elements of nums are not important as well as the size of nums.\n",
    "- Return k.\n",
    "\n",
    "**Example :**\n",
    "Input: nums = [3,2,2,3], val = 3\n",
    "Output: 2, nums = [2,2,_*,_*]\n",
    "\n",
    "**Explanation:** Your function should return k = 2, with the first two elements of nums being 2. It does not matter what you leave beyond the returned k (hence they are underscores\n",
    "\n"
   ]
  },
  {
   "cell_type": "code",
   "execution_count": 22,
   "id": "11f153f0",
   "metadata": {},
   "outputs": [
    {
     "name": "stdout",
     "output_type": "stream",
     "text": [
      "(2, [2, 2, -1, -1])\n",
      "(5, [2, 2, 4, 5, 1, -1, -1, -1])\n"
     ]
    }
   ],
   "source": [
    "class FirstKElememts:\n",
    "    def removeMatchedOccurance(self,nums:List[int],val:int) -> List[int]:\n",
    "        temp=0\n",
    "        for i in range(len(nums)):\n",
    "            if nums[i]!=val:\n",
    "                nums[temp]=nums[i]\n",
    "                temp+=1\n",
    "        k=temp\n",
    "        while temp < len(nums):\n",
    "            nums[temp]=-1\n",
    "            temp+=1\n",
    "        return k,nums\n",
    "\n",
    "obj = FirstKElememts()\n",
    "print(obj.removeMatchedOccurance([3,2,2,3],3))\n",
    "print(obj.removeMatchedOccurance([3,2,2,4,5,1,3,3],3))\n"
   ]
  },
  {
   "cell_type": "markdown",
   "id": "7feaa422",
   "metadata": {},
   "source": [
    "\n",
    "💡 **Q3.** Given a sorted array of distinct integers and a target value, return the index if the target is found. If not, return the index where it would be if it were inserted in order.\n",
    "\n",
    "You must write an algorithm with O(log n) runtime complexity.\n",
    "\n",
    "**Example 1:**\n",
    "Input: nums = [1,3,5,6], target = 5\n",
    "\n",
    "Output: 2\n"
   ]
  },
  {
   "cell_type": "code",
   "execution_count": 37,
   "id": "f0e289cc",
   "metadata": {},
   "outputs": [
    {
     "name": "stdout",
     "output_type": "stream",
     "text": [
      "Search Element found at the index 2\n"
     ]
    }
   ],
   "source": [
    "## Using Divide and Conquer Approach using Binary search method\n",
    "## Input is sorted is Array \n",
    "from typing import List\n",
    "class BinarySeach:\n",
    "    def searchElement(self,arr:List[int],target:int) -> int:\n",
    "        low=0\n",
    "        high = len(arr)-1\n",
    "        while low<=high:\n",
    "            mid=(low+high)//2\n",
    "            if arr[mid]==target:\n",
    "                return mid\n",
    "            elif arr[mid] < target:\n",
    "                low=mid+1\n",
    "            elif arr[mid] > target:\n",
    "                high = mid-1\n",
    "        return -1\n",
    "\n",
    "bs = BinarySeach()\n",
    "print(f\"Search Element found at the index {bs.searchElement([0,1,3,4,5,6,7],3)}\")\n",
    "        "
   ]
  },
  {
   "cell_type": "markdown",
   "id": "cfb7d18e",
   "metadata": {},
   "source": [
    "\n",
    "💡 **Q4.** You are given a large integer represented as an integer array digits, where each digits[i] is the ith digit of the integer. The digits are ordered from most significant to least significant in left-to-right order. The large integer does not contain any leading 0's.\n",
    "\n",
    "Increment the large integer by one and return the resulting array of digits.\n",
    "\n",
    "**Example 1:**\n",
    "Input: digits = [1,2,3]\n",
    "Output: [1,2,4]\n",
    "\n",
    "**Explanation:** The array represents the integer 123.\n",
    "\n",
    "Incrementing by one gives 123 + 1 = 124.\n",
    "Thus, the result should be [1,2,4].\n"
   ]
  },
  {
   "cell_type": "code",
   "execution_count": 67,
   "id": "ba0d4d65",
   "metadata": {},
   "outputs": [
    {
     "data": {
      "text/plain": [
       "[1, 0, 2]"
      ]
     },
     "execution_count": 67,
     "metadata": {},
     "output_type": "execute_result"
    }
   ],
   "source": [
    "def incrementByOne(arr:List[int]) -> List[int]:\n",
    "    num = ''\n",
    "    for i in arr:\n",
    "        num+=str(i)\n",
    "    num = int(num)+=1\n",
    "    res_arr=[]\n",
    "    while num!=0:\n",
    "        res_arr.append(num%10)\n",
    "        num//=10\n",
    "    return res_arr[::-1]\n",
    "\n",
    "incrementByOne([1,0,1])"
   ]
  },
  {
   "cell_type": "markdown",
   "id": "d5b5d1ad",
   "metadata": {},
   "source": [
    "\n",
    "💡 **Q5.** You are given two integer arrays nums1 and nums2, sorted in non-decreasing order, and two integers m and n, representing the number of elements in nums1 and nums2 respectively.\n",
    "\n",
    "Merge nums1 and nums2 into a single array sorted in non-decreasing order.\n",
    "\n",
    "The final sorted array should not be returned by the function, but instead be stored inside the array nums1. To accommodate this, nums1 has a length of m + n, where the first m elements denote the elements that should be merged, and the last n elements are set to 0 and should be ignored. nums2 has a length of n.\n",
    "\n",
    "**Example 1:**\n",
    "Input: nums1 = [1,2,3,0,0,0], m = 3, nums2 = [2,5,6], n = 3\n",
    "Output: [1,2,2,3,5,6]\n",
    "\n",
    "**Explanation:** The arrays we are merging are [1,2,3] and [2,5,6].\n",
    "The result of the merge is [1,2,2,3,5,6] with the underlined elements coming from nums1.\n",
    "\n"
   ]
  },
  {
   "cell_type": "code",
   "execution_count": 88,
   "id": "a49a5580",
   "metadata": {},
   "outputs": [],
   "source": [
    "## Two Pointer Approach to merge Two Arrays in Sorted Array\n",
    "class MergeTwoArrays:\n",
    "    def merge(self,nums1,m,nums2,n):\n",
    "        p1 = m-1 # pointer 1 for nums1\n",
    "        p2 = n-1 # pointer 2 for nums2\n",
    "        p = m+n-1 # Pointer for final array\n",
    "        while p1 >=0 and p2 >=0:\n",
    "            if nums1[p1] <= nums2[p2]:\n",
    "                nums1[p]=nums2[p2]\n",
    "                p2-=1\n",
    "            else:\n",
    "                nums1[p]=nums[p1]\n",
    "                p1-=1\n",
    "            p-=1\n",
    "        \n",
    "        # Loop for adding remaining elements in nums2\n",
    "        while p2>=0: \n",
    "            nums1[p]=nums2[p2]\n",
    "            p2-=1\n",
    "            p-=1\n",
    "        print(\"Final Sorted Array is \", nums1)"
   ]
  },
  {
   "cell_type": "code",
   "execution_count": 89,
   "id": "3a45a7b8",
   "metadata": {},
   "outputs": [
    {
     "name": "stdout",
     "output_type": "stream",
     "text": [
      "Enter M value : 3\n",
      "Enter N Value : 3\n",
      "Enter 1 element 1\n",
      "Enter 2 element 2\n",
      "Enter 3 element 3\n",
      "Enter 1 element1\n",
      "Enter 2 element2\n",
      "Enter 3 element6\n",
      "Final Sorted Array is  [1, 1, 2, 2, 3, 6]\n"
     ]
    }
   ],
   "source": [
    "m=int(input(\"Enter M value : \"))\n",
    "n=int(input(\"Enter N Value : \"))\n",
    "\n",
    "nums1=[int(input(f\"Enter {i+1} element \")) for i in range(m)]+[0]*n\n",
    "nums2=[int(input(f\"Enter {i+1} element\")) for i in range(n)]\n",
    "\n",
    "obj = MergeTwoArrays()\n",
    "obj.merge(nums1,m,nums2,n)"
   ]
  },
  {
   "cell_type": "markdown",
   "id": "8d3a2fa3",
   "metadata": {},
   "source": [
    "\n",
    "💡 **Q6.** Given an integer array nums, return true if any value appears at least twice in the array, and return false if every element is distinct.\n",
    "\n",
    "**Example 1:**\n",
    "Input: nums = [1,2,3,1]\n",
    "\n",
    "Output: true\n",
    "\n"
   ]
  },
  {
   "cell_type": "code",
   "execution_count": 99,
   "id": "619240b3",
   "metadata": {},
   "outputs": [
    {
     "data": {
      "text/plain": [
       "True"
      ]
     },
     "execution_count": 99,
     "metadata": {},
     "output_type": "execute_result"
    }
   ],
   "source": [
    "def checkDuplicates(arr:List[int]) -> bool:\n",
    "    if len(set(arr)) != len(arr):\n",
    "        return True\n",
    "    else:\n",
    "        return False\n",
    "checkDuplicates([1,2,4,5,6,1])"
   ]
  },
  {
   "cell_type": "markdown",
   "id": "b5a7b16d",
   "metadata": {},
   "source": [
    "\n",
    "💡 **Q7.** Given an integer array nums, move all 0's to the end of it while maintaining the relative order of the nonzero elements.\n",
    "\n",
    "Note that you must do this in-place without making a copy of the array.\n",
    "\n",
    "**Example 1:**\n",
    "Input: nums = [0,1,0,3,12]\n",
    "Output: [1,3,12,0,0]\n",
    "\n"
   ]
  },
  {
   "cell_type": "code",
   "execution_count": 101,
   "id": "7751b4f8",
   "metadata": {},
   "outputs": [
    {
     "data": {
      "text/plain": [
       "[1, 3, 12, 0, 0]"
      ]
     },
     "execution_count": 101,
     "metadata": {},
     "output_type": "execute_result"
    }
   ],
   "source": [
    "def moveZerostoEnd(arr:List[int]) -> List[int]:\n",
    "    temp=0\n",
    "    for i in range(len(arr)):\n",
    "        if arr[i]!=0:\n",
    "            arr[temp]=arr[i]\n",
    "            temp+=1\n",
    "        \n",
    "    while temp<len(arr):\n",
    "        arr[temp]=0\n",
    "        temp+=1\n",
    "    return arr\n",
    "moveZerostoEnd([0,1,0,3,12])"
   ]
  },
  {
   "cell_type": "markdown",
   "id": "24d79973",
   "metadata": {},
   "source": [
    "\n",
    "💡 **Q8.** You have a set of integers s, which originally contains all the numbers from 1 to n. Unfortunately, due to some error, one of the numbers in s got duplicated to another number in the set, which results in repetition of one number and loss of another number.\n",
    "\n",
    "You are given an integer array nums representing the data status of this set after the error.\n",
    "\n",
    "Find the number that occurs twice and the number that is missing and return them in the form of an array.\n",
    "\n",
    "**Example 1:**\n",
    "Input: nums = [1,2,2,4]\n",
    "Output: [2,3]\n"
   ]
  },
  {
   "cell_type": "code",
   "execution_count": 110,
   "id": "181fec18",
   "metadata": {},
   "outputs": [
    {
     "data": {
      "text/plain": [
       "[2, 3]"
      ]
     },
     "execution_count": 110,
     "metadata": {},
     "output_type": "execute_result"
    }
   ],
   "source": [
    "def find_duplicate_and_missed(arr:List[int]) -> List[int]:\n",
    "    n=len(arr)\n",
    "    total_sum = (n*(n+1))//2\n",
    "    curr_sum=sum(arr)\n",
    "    for i in arr:\n",
    "        if arr.count(i)>1:\n",
    "            need=total_sum-(curr_sum-i)\n",
    "            return [i,need]\n",
    "\n",
    "find_duplicate_and_missed([1,2,2,4])"
   ]
  }
 ],
 "metadata": {
  "kernelspec": {
   "display_name": "Python 3 (ipykernel)",
   "language": "python",
   "name": "python3"
  },
  "language_info": {
   "codemirror_mode": {
    "name": "ipython",
    "version": 3
   },
   "file_extension": ".py",
   "mimetype": "text/x-python",
   "name": "python",
   "nbconvert_exporter": "python",
   "pygments_lexer": "ipython3",
   "version": "3.9.12"
  }
 },
 "nbformat": 4,
 "nbformat_minor": 5
}
