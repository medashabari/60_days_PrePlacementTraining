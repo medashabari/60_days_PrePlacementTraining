{
 "cells": [
  {
   "cell_type": "markdown",
   "id": "24961c00",
   "metadata": {},
   "source": [
    "\n",
    "💡 **Question 1**\n",
    "\n",
    "Given two strings s1 and s2, return *the lowest **ASCII** sum of deleted characters to make two strings equal*.\n",
    "\n",
    "**Example 1:**\n",
    "\n",
    "**Input:** s1 = \"sea\", s2 = \"eat\"\n",
    "\n",
    "**Output:** 231\n",
    "\n",
    "**Explanation:** Deleting \"s\" from \"sea\" adds the ASCII value of \"s\" (115) to the sum.\n",
    "\n",
    "Deleting \"t\" from \"eat\" adds 116 to the sum.\n",
    "\n",
    "At the end, both strings are equal, and 115 + 116 = 231 is the minimum sum possible to achieve this.\n"
   ]
  },
  {
   "cell_type": "code",
   "execution_count": 15,
   "id": "59744fdf",
   "metadata": {},
   "outputs": [
    {
     "data": {
      "text/plain": [
       "403"
      ]
     },
     "execution_count": 15,
     "metadata": {},
     "output_type": "execute_result"
    }
   ],
   "source": [
    "def minimumDeleteSum(s1, s2):\n",
    "    m, n = len(s1), len(s2)\n",
    "    dp = [[0] * (n + 1) for _ in range(m + 1)]\n",
    "\n",
    "    for i in range(1, m + 1):\n",
    "        for j in range(1, n + 1):\n",
    "            if s1[i - 1] == s2[j - 1]:\n",
    "                dp[i][j] = dp[i - 1][j - 1] + ord(s1[i - 1])\n",
    "            else:\n",
    "                dp[i][j] = max(dp[i - 1][j], dp[i][j - 1])\n",
    "    ascii_sum = 0\n",
    "    for ch in s1:\n",
    "        ascii_sum += ord(ch)\n",
    "    for ch in s2:\n",
    "        ascii_sum += ord(ch)\n",
    "    \n",
    "    return ascii_sum - 2 * dp[m][n]\n",
    "minimumDeleteSum('delete','leet')"
   ]
  },
  {
   "cell_type": "markdown",
   "id": "f42f8639",
   "metadata": {},
   "source": [
    "\n",
    "💡 **Question 2**\n",
    "\n",
    "Given a string s containing only three types of characters: '(', ')' and '*', return true *if* s *is **valid***.\n",
    "\n",
    "The following rules define a **valid** string:\n",
    "\n",
    "- Any left parenthesis '(' must have a corresponding right parenthesis ')'.\n",
    "- Any right parenthesis ')' must have a corresponding left parenthesis '('.\n",
    "- Left parenthesis '(' must go before the corresponding right parenthesis ')'.\n",
    "- '*' could be treated as a single right parenthesis ')' or a single left parenthesis '(' or an empty string \"\".\n",
    "\n",
    "**Example 1:**\n",
    "\n",
    "**Input:** s = \"()\"\n",
    "\n",
    "**Output:**\n",
    "\n",
    "true\n"
   ]
  },
  {
   "cell_type": "code",
   "execution_count": 43,
   "id": "0a856df3",
   "metadata": {},
   "outputs": [
    {
     "name": "stdout",
     "output_type": "stream",
     "text": [
      "()()\n"
     ]
    },
    {
     "data": {
      "text/plain": [
       "True"
      ]
     },
     "execution_count": 43,
     "metadata": {},
     "output_type": "execute_result"
    }
   ],
   "source": [
    "class Stack:\n",
    "    def __init__(self):\n",
    "        self.stack_list = []\n",
    "    \n",
    "    def push(self,ele):\n",
    "        self.stack_list.append(ele)\n",
    "    def pop(self):\n",
    "        if len(self.stack_list)!=0:\n",
    "            ele = self.stack_list[-1]\n",
    "            self.stack_list.pop()\n",
    "            return ele\n",
    "        else:\n",
    "            return -1\n",
    "    \n",
    "    \n",
    "def checkbalanced(ip):\n",
    "    flag=0 \n",
    "    s=Stack()\n",
    "    for i in ip:\n",
    "        if i=='(':\n",
    "            s.push(i)\n",
    "        elif i==')':\n",
    "            ele = s.pop()\n",
    "            if ele == '(':\n",
    "                continue\n",
    "            else:\n",
    "                flag=1\n",
    "                break\n",
    "    if flag==0 and len(s.stack_list)==0:\n",
    "        return True\n",
    "    else:\n",
    "        return False\n",
    "    \n",
    "checkbalanced(input())\n"
   ]
  },
  {
   "cell_type": "markdown",
   "id": "6f2df471",
   "metadata": {},
   "source": [
    "**Question 3**\n",
    "Given two strings word1 and word2, return *the minimum number of **steps** required to make* word1 *and* word2 *the same*.\n",
    "\n",
    "In one **step**, you can delete exactly one character in either string.\n",
    "\n",
    "**Example 1:**\n",
    "\n",
    "**Input:** word1 = \"sea\", word2 = \"eat\"\n",
    "\n",
    "**Output:** 2\n",
    "\n",
    "**Explanation:** You need one step to make \"sea\" to \"ea\" and another step to make \"eat\" to \"ea\"."
   ]
  },
  {
   "cell_type": "code",
   "execution_count": 45,
   "id": "3dbea98b",
   "metadata": {},
   "outputs": [
    {
     "name": "stdout",
     "output_type": "stream",
     "text": [
      "4\n"
     ]
    }
   ],
   "source": [
    "def minSteps(word1, word2):\n",
    "    m, n = len(word1), len(word2)\n",
    "    dp = [[0] * (n + 1) for _ in range(m + 1)]\n",
    "    for i in range(1, m + 1):\n",
    "        for j in range(1, n + 1):\n",
    "            if word1[i - 1] == word2[j - 1]:\n",
    "                dp[i][j] = dp[i - 1][j - 1] + 1\n",
    "            else:\n",
    "                dp[i][j] = max(dp[i - 1][j], dp[i][j - 1])\n",
    "    lcs_length = dp[m][n]\n",
    "    steps = m + n - 2 * lcs_length\n",
    "    return steps\n",
    "word1 = \"sea\"\n",
    "word2 = \"eat\"\n",
    "print(minSteps(\"delete\", \"leet\"))\n"
   ]
  },
  {
   "cell_type": "markdown",
   "id": "31ad1a9f",
   "metadata": {},
   "source": [
    "\n",
    "💡 **Question 5**\n",
    "\n",
    "Given an array of characters chars, compress it using the following algorithm:\n",
    "\n",
    "Begin with an empty string s. For each group of **consecutive repeating characters** in chars:\n",
    "\n",
    "- If the group's length is 1, append the character to s.\n",
    "- Otherwise, append the character followed by the group's length.\n",
    "\n",
    "The compressed string s **should not be returned separately**, but instead, be stored **in the input character array chars**. Note that group lengths that are 10 or longer will be split into multiple characters in chars.\n",
    "\n",
    "After you are done **modifying the input array,** return *the new length of the array*.\n",
    "\n",
    "You must write an algorithm that uses only constant extra space.\n",
    "\n",
    "**Example 1:**\n",
    "\n",
    "**Input:** chars = [\"a\",\"a\",\"b\",\"b\",\"c\",\"c\",\"c\"]\n",
    "\n",
    "**Output:** Return 6, and the first 6 characters of the input array should be: [\"a\",\"2\",\"b\",\"2\",\"c\",\"3\"]\n",
    "\n",
    "**Explanation:**\n",
    "\n",
    "The groups are \"aa\", \"bb\", and \"ccc\". This compresses to \"a2b2c3\".\n"
   ]
  },
  {
   "cell_type": "code",
   "execution_count": 30,
   "id": "8243d9ea",
   "metadata": {},
   "outputs": [],
   "source": [
    "def compress(chars):\n",
    "    counter = [0]*26 \n",
    "    for i in chars:\n",
    "        counter[ord(i)-ord('a')]+=1\n",
    "    s=''\n",
    "    for i in set(chars):\n",
    "        if int(counter[ord(i)-ord('a')]) == 1:\n",
    "            s = i+s\n",
    "        else:\n",
    "            s = i+str(counter[ord(i)-ord('a')])+s\n",
    "    chars = list(s)\n",
    "    return len(chars)"
   ]
  },
  {
   "cell_type": "code",
   "execution_count": 32,
   "id": "d59c0972",
   "metadata": {},
   "outputs": [
    {
     "data": {
      "text/plain": [
       "6"
      ]
     },
     "execution_count": 32,
     "metadata": {},
     "output_type": "execute_result"
    }
   ],
   "source": [
    "compress(['a','a','b','b','b','c','c','c'])"
   ]
  },
  {
   "cell_type": "markdown",
   "id": "b2e9f009",
   "metadata": {},
   "source": [
    "\n",
    "💡 **Question 6**\n",
    "\n",
    "Given two strings s and p, return *an array of all the start indices of* p*'s anagrams in* s. You may return the answer in **any order**.\n",
    "\n",
    "An **Anagram** is a word or phrase formed by rearranging the letters of a different word or phrase, typically using all the original letters exactly once.\n",
    "\n",
    "**Example 1:**\n",
    "\n",
    "**Input:** s = \"cbaebabacd\", p = \"abc\"\n",
    "\n",
    "**Output:** [0,6]\n",
    "\n",
    "**Explanation:**\n",
    "\n",
    "The substring with start index = 0 is \"cba\", which is an anagram of \"abc\".\n",
    "\n",
    "The substring with start index = 6 is \"bac\", which is an anagram of \"abc\".\n"
   ]
  },
  {
   "cell_type": "code",
   "execution_count": 43,
   "id": "08365f7b",
   "metadata": {},
   "outputs": [],
   "source": [
    "def is_validAnagram(s1,s2):\n",
    "    if len(s1)!=len(s2):\n",
    "        return False\n",
    "    counter = [0]*26\n",
    "    for i,j in zip(s1,s2):\n",
    "        counter[ord(i)-ord('a')]+=1\n",
    "        counter[ord(j)-ord('a')]-=1\n",
    "    for count in counter:\n",
    "        if count!=0:\n",
    "            return False\n",
    "    return True\n",
    "\n",
    "def anagram_index(s,p):\n",
    "    p_len = len(p)\n",
    "    i=0\n",
    "    indexs=[]\n",
    "    while i<len(s):\n",
    "        res=is_validAnagram(s[i:i+p_len],p)\n",
    "        if res==True:\n",
    "            indexs.append(i)\n",
    "        i+=1\n",
    "            \n",
    "    return indexs"
   ]
  },
  {
   "cell_type": "code",
   "execution_count": 48,
   "id": "220a9357",
   "metadata": {},
   "outputs": [
    {
     "data": {
      "text/plain": [
       "[0, 6]"
      ]
     },
     "execution_count": 48,
     "metadata": {},
     "output_type": "execute_result"
    }
   ],
   "source": [
    "anagram_index('cbaebabacd','abc')"
   ]
  },
  {
   "cell_type": "markdown",
   "id": "509cb380",
   "metadata": {},
   "source": [
    "\n",
    "💡 **Question 7**\n",
    "\n",
    "Given an encoded string, return its decoded string.\n",
    "\n",
    "The encoding rule is: k[encoded_string], where the encoded_string inside the square brackets is being repeated exactly k times. Note that k is guaranteed to be a positive integer.\n",
    "\n",
    "You may assume that the input string is always valid; there are no extra white spaces, square brackets are well-formed, etc. Furthermore, you may assume that the original data does not contain any digits and that digits are only for those repeat numbers, k. For example, there will not be input like 3a or 2[4].\n",
    "\n",
    "The test cases are generated so that the length of the output will never exceed 105.\n",
    "\n",
    "**Example 1:**\n",
    "\n",
    "**Input:** s = \"3[a]2[bc]\"\n",
    "\n",
    "**Output:** \"aaabcbc\"\n",
    "\n"
   ]
  },
  {
   "cell_type": "code",
   "execution_count": 62,
   "id": "e60cec92",
   "metadata": {},
   "outputs": [
    {
     "data": {
      "text/plain": [
       "'aaabcbc'"
      ]
     },
     "execution_count": 62,
     "metadata": {},
     "output_type": "execute_result"
    }
   ],
   "source": [
    "def decode_string(s):\n",
    "    res=''\n",
    "    i=0\n",
    "    while i<len(s):\n",
    "        if s[i].isdigit():\n",
    "            j=i+1\n",
    "            k=''\n",
    "            if s[j]=='[':\n",
    "                j=j+1\n",
    "                while s[j]!=']':\n",
    "                    k+=s[j]\n",
    "                    j=j+1\n",
    "\n",
    "        res=res+int(s[i])*k\n",
    "        i=j+1\n",
    "    return res\n",
    "decode_string(s = \"3[a]2[bc]\")\n",
    "            "
   ]
  },
  {
   "cell_type": "markdown",
   "id": "465c25f9",
   "metadata": {},
   "source": [
    "\n",
    "💡 **Question 8**\n",
    "\n",
    "Given two strings s and goal, return true *if you can swap two letters in* s *so the result is equal to* goal*, otherwise, return* false*.*\n",
    "\n",
    "Swapping letters is defined as taking two indices i and j (0-indexed) such that i != j and swapping the characters at s[i] and s[j].\n",
    "\n",
    "- For example, swapping at indices 0 and 2 in \"abcd\" results in \"cbad\".\n",
    "\n",
    "**Example 1:**\n",
    "\n",
    "**Input:** s = \"ab\", goal = \"ba\"\n",
    "\n",
    "**Output:** true\n",
    "\n",
    "**Explanation:** You can swap s[0] = 'a' and s[1] = 'b' to get \"ba\", which is equal to goal.\n"
   ]
  },
  {
   "cell_type": "code",
   "execution_count": 63,
   "id": "7b86c4e0",
   "metadata": {},
   "outputs": [],
   "source": [
    "def possible_swap(s,goal):\n",
    "    if len(s)!=len(goal):\n",
    "        return False\n",
    "    count=0\n",
    "    i=0\n",
    "    j=0\n",
    "    for i,j in zip(s,goal):\n",
    "        if i!=j:\n",
    "            count+=1\n",
    "        if count > 2:\n",
    "            return False\n",
    "    return True"
   ]
  },
  {
   "cell_type": "code",
   "execution_count": 65,
   "id": "bd2bba7b",
   "metadata": {},
   "outputs": [
    {
     "data": {
      "text/plain": [
       "True"
      ]
     },
     "execution_count": 65,
     "metadata": {},
     "output_type": "execute_result"
    }
   ],
   "source": [
    "possible_swap('abcd','cbad')"
   ]
  }
 ],
 "metadata": {
  "kernelspec": {
   "display_name": "Python 3 (ipykernel)",
   "language": "python",
   "name": "python3"
  },
  "language_info": {
   "codemirror_mode": {
    "name": "ipython",
    "version": 3
   },
   "file_extension": ".py",
   "mimetype": "text/x-python",
   "name": "python",
   "nbconvert_exporter": "python",
   "pygments_lexer": "ipython3",
   "version": "3.9.12"
  }
 },
 "nbformat": 4,
 "nbformat_minor": 5
}
