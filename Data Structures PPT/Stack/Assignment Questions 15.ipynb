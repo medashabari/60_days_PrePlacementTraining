{
 "cells": [
  {
   "cell_type": "markdown",
   "id": "d3f79344",
   "metadata": {},
   "source": [
    "💡 **Question 1**\n",
    "\n",
    "Given an array **arr[ ]** of size **N** having elements, the task is to find the next greater element for each element of the array in order of their appearance in the array.Next greater element of an element in the array is the nearest element on the right which is greater than the current element.If there does not exist next greater of current element, then next greater element for current element is -1. For example, next greater of the last element is always -1.\n",
    "\n",
    "**Example 1:**\n",
    "```Input:\n",
    "N = 4, arr[] = [1 3 2 4]\n",
    "Output:\n",
    "3 4 4 -1\n",
    "Explanation:\n",
    "In the array, the next larger element\n",
    "to 1 is 3 , 3 is 4 , 2 is 4 and for 4 ?\n",
    "since it doesn't exist, it is -1.\n",
    "```\n",
    "\n",
    "**Example 2:**\n",
    "```\n",
    "Input:\n",
    "N = 5, arr[] [6 8 0 1 3]\n",
    "Output:\n",
    "8 -1 1 3 -1\n",
    "Explanation:\n",
    "In the array, the next larger element to\n",
    "6 is 8, for 8 there is no larger elements\n",
    "hence it is -1, for 0 it is 1 , for 1 it\n",
    "is 3 and then for 3 there is no larger\n",
    "element on right and hence -1.\n",
    "```"
   ]
  },
  {
   "cell_type": "code",
   "execution_count": 4,
   "id": "64f0c1c7",
   "metadata": {},
   "outputs": [],
   "source": [
    "def find_next_greater(arr):\n",
    "    new = []\n",
    "    for i in range(len(arr)):\n",
    "        for j in range(i,len(arr)):\n",
    "            if arr[i] < arr[j]:\n",
    "                new.append(arr[j])\n",
    "                break\n",
    "        else:\n",
    "            new.append(-1)\n",
    "    print(new)\n",
    "                "
   ]
  },
  {
   "cell_type": "code",
   "execution_count": 5,
   "id": "e8b28db5",
   "metadata": {},
   "outputs": [
    {
     "name": "stdout",
     "output_type": "stream",
     "text": [
      "[3, 4, 4, -1]\n"
     ]
    }
   ],
   "source": [
    "find_next_greater([1,3,2,4])"
   ]
  },
  {
   "cell_type": "code",
   "execution_count": 6,
   "id": "4bf2f81c",
   "metadata": {},
   "outputs": [
    {
     "name": "stdout",
     "output_type": "stream",
     "text": [
      "[8, -1, 1, 3, -1]\n"
     ]
    }
   ],
   "source": [
    "find_next_greater([6,8,0,1,3])"
   ]
  },
  {
   "cell_type": "markdown",
   "id": "2c34ace3",
   "metadata": {},
   "source": [
    " **Question 2**\n",
    "\n",
    "Given an array **a** of integers of length **n**, find the nearest smaller number for every element such that the smaller element is on left side.If no small element present on the left print -1.\n",
    "\n",
    "**Example 1:**\n",
    "```\n",
    "Input: n = 3\n",
    "a = {1, 6, 2}\n",
    "Output: -1 1 1\n",
    "Explaination: There is no number at the\n",
    "left of 1. Smaller number than 6 and 2 is 1.\n",
    "```\n",
    "**Example 2:**\n",
    "```\n",
    "Input: n = 6\n",
    "a = {1, 5, 0, 3, 4, 5}\n",
    "Output: -1 1 -1 0 3 4\n",
    "Explaination: Upto 3 it is easy to see\n",
    "the smaller numbers. But for 4 the smaller\n",
    "numbers are 1, 0 and 3. But among them 3\n",
    "is closest. Similary for 5 it is 4.\n",
    "```"
   ]
  },
  {
   "cell_type": "code",
   "execution_count": 12,
   "id": "8f178fac",
   "metadata": {},
   "outputs": [],
   "source": [
    "def find_small(arr):\n",
    "    new = []\n",
    "    for i in range(len(arr)-1,-1,-1):\n",
    "        for j in range(i-1,-1,-1):\n",
    "            if arr[j] < arr[i]:\n",
    "                new.append(arr[j])\n",
    "                break\n",
    "        else:\n",
    "            new.append(-1)\n",
    "    return new[::-1]\n",
    "        "
   ]
  },
  {
   "cell_type": "code",
   "execution_count": 13,
   "id": "ec04a672",
   "metadata": {},
   "outputs": [
    {
     "data": {
      "text/plain": [
       "[-1, 1, 1]"
      ]
     },
     "execution_count": 13,
     "metadata": {},
     "output_type": "execute_result"
    }
   ],
   "source": [
    "find_small([1,6,2])"
   ]
  },
  {
   "cell_type": "code",
   "execution_count": 14,
   "id": "d1247ecd",
   "metadata": {},
   "outputs": [
    {
     "data": {
      "text/plain": [
       "[-1, 1, -1, 0, 3, 4]"
      ]
     },
     "execution_count": 14,
     "metadata": {},
     "output_type": "execute_result"
    }
   ],
   "source": [
    "find_small([1, 5, 0, 3, 4, 5])"
   ]
  },
  {
   "cell_type": "markdown",
   "id": "1a4092f3",
   "metadata": {},
   "source": [
    " **Question 3**\n",
    "\n",
    "Implement a Stack using two queues **q1** and **q2**.\n",
    "\n",
    "**Example 1:**\n",
    "\n",
    "```\n",
    "Input:\n",
    "push(2)\n",
    "push(3)\n",
    "pop()\n",
    "push(4)\n",
    "pop()\n",
    "Output:3 4\n",
    "Explanation:\n",
    "push(2) the stack will be {2}\n",
    "push(3) the stack will be {2 3}\n",
    "pop()   poped element will be 3 the\n",
    "        stack will be {2}\n",
    "push(4) the stack will be {2 4}\n",
    "pop()   poped element will be 4\n",
    "\n",
    "```\n",
    "\n",
    "**Example 2:**\n",
    "```\n",
    "Input:\n",
    "push(2)\n",
    "pop()\n",
    "pop()\n",
    "push(3)\n",
    "Output:2 -1\n",
    "```"
   ]
  },
  {
   "cell_type": "code",
   "execution_count": 6,
   "id": "26b6586c",
   "metadata": {},
   "outputs": [],
   "source": [
    "from collections import deque\n",
    "class Stack:\n",
    "    def __init__(self):\n",
    "        self.q1 = deque()\n",
    "        self.q2 = deque()\n",
    "        \n",
    "    \n",
    "    def push(self,x) -> None:\n",
    "        self.q1.append(x)\n",
    "    \n",
    "    def pop(self) -> int:\n",
    "        while(len(self.q1)) > 1:\n",
    "            self.q2.append(self.q1.popleft())\n",
    "        val = self.q1.popleft()\n",
    "        \n",
    "        while(len(self.q2))!=0:\n",
    "            self.q1.append(self.q2.popleft())\n",
    "        return val\n",
    "    \n",
    "    def top(self) -> int:\n",
    "        while(len(self.q1)) >1:\n",
    "            self.q2.append(self.q1.popleft())\n",
    "        return self.q1[0]\n",
    "        \n",
    "\n",
    "    def empty(self) -> bool:\n",
    "        return len(self.q1) < 1 and len(self.q2) < 1"
   ]
  },
  {
   "cell_type": "code",
   "execution_count": 9,
   "id": "1d649b1f",
   "metadata": {},
   "outputs": [
    {
     "name": "stdout",
     "output_type": "stream",
     "text": [
      "4\n",
      "3\n",
      "3\n",
      "2\n"
     ]
    }
   ],
   "source": [
    "s = Stack()\n",
    "for i in [1,2,3,4]:\n",
    "    s.push(i)\n",
    "print(s.pop())\n",
    "print(s.top())\n",
    "print(s.pop())\n",
    "print(s.top())"
   ]
  },
  {
   "cell_type": "markdown",
   "id": "2ce9e75d",
   "metadata": {},
   "source": [
    "\n",
    "💡 **Question 4**\n",
    "\n",
    "You are given a stack **St**. You have to reverse the stack using recursion.\n",
    "\n",
    "**Example 1:**\n",
    "\n",
    "```\n",
    "Input:St = {3,2,1,7,6}\n",
    "Output:{6,7,1,2,3}\n",
    "```\n",
    "\n",
    "**Example 2:**\n",
    "```\n",
    "Input:St = {4,3,9,6}\n",
    "Output:{6,9,3,4}\n",
    "```"
   ]
  },
  {
   "cell_type": "code",
   "execution_count": 43,
   "id": "3d8574af",
   "metadata": {},
   "outputs": [],
   "source": [
    "class Stack:\n",
    "    def __init__(self):\n",
    "        self.stack = []\n",
    "        \n",
    "    def push(self,x):\n",
    "        self.stack.append(x)\n",
    "        \n",
    "def reverseStack(st):\n",
    "    if len(st) <= 1:\n",
    "        return st\n",
    "    else:\n",
    "        top=st.pop()\n",
    "        reverseStack(st)\n",
    "        insert_bottom(st,top)\n",
    "    return st\n",
    "def insert_bottom(st,val):\n",
    "    if not st:\n",
    "        st.append(val)\n",
    "    else:\n",
    "        top = st.pop()\n",
    "        insert_bottom(st,val)\n",
    "        st.append(top)\n",
    "                \n",
    "            "
   ]
  },
  {
   "cell_type": "code",
   "execution_count": 44,
   "id": "f353f131",
   "metadata": {},
   "outputs": [],
   "source": [
    "s = Stack()\n",
    "for i in [1,2,3]:\n",
    "    s.push(i)"
   ]
  },
  {
   "cell_type": "code",
   "execution_count": 45,
   "id": "f1b3f43b",
   "metadata": {},
   "outputs": [
    {
     "data": {
      "text/plain": [
       "[3, 2, 1]"
      ]
     },
     "execution_count": 45,
     "metadata": {},
     "output_type": "execute_result"
    }
   ],
   "source": [
    "reverseStack(s.stack)"
   ]
  },
  {
   "cell_type": "markdown",
   "id": "998a9ea1",
   "metadata": {},
   "source": [
    "\n",
    "💡 **Question 5**\n",
    "\n",
    "You are given a string **S**, the task is to reverse the string using stack.\n",
    "\n",
    "**Example 1:**\n",
    "```\n",
    "Input: S=\"GeeksforGeeks\"\n",
    "Output: skeeGrofskeeG\n",
    "```"
   ]
  },
  {
   "cell_type": "code",
   "execution_count": 51,
   "id": "bf1e2a38",
   "metadata": {},
   "outputs": [],
   "source": [
    "def reverse_string(s):\n",
    "    if len(s.stack)==0:\n",
    "        return ''\n",
    "    else:\n",
    "        char=s.stack.pop()\n",
    "        return char+reverse_string(s)\n",
    "        "
   ]
  },
  {
   "cell_type": "code",
   "execution_count": 52,
   "id": "ab968e09",
   "metadata": {},
   "outputs": [],
   "source": [
    "s = Stack()\n",
    "for i in \"GeeksforGeeks\":\n",
    "    s.push(i)"
   ]
  },
  {
   "cell_type": "code",
   "execution_count": 53,
   "id": "e73badf9",
   "metadata": {},
   "outputs": [
    {
     "data": {
      "text/plain": [
       "'skeeGrofskeeG'"
      ]
     },
     "execution_count": 53,
     "metadata": {},
     "output_type": "execute_result"
    }
   ],
   "source": [
    "reverse_string(s)"
   ]
  },
  {
   "cell_type": "markdown",
   "id": "c9ccd9f6",
   "metadata": {},
   "source": [
    "\n",
    "💡 **Question 6**\n",
    "\n",
    "Given string **S** representing a postfix expression, the task is to evaluate the expression and find the final value. Operators will only include the basic arithmetic operators like ***, /, + and -**.\n",
    "\n",
    "**Example 1:**\n",
    "\n",
    "```\n",
    "Input: S = \"231*+9-\"\n",
    "Output: -4\n",
    "Explanation:\n",
    "After solving the given expression,\n",
    "we have -4 as result.\n",
    "\n",
    "```\n",
    "\n",
    "**Example 2:**\n",
    "\n",
    "```\n",
    "Input: S = \"123+*8-\"\n",
    "Output: -3\n",
    "Explanation:\n",
    "After solving the given postfix\n",
    "expression, we have -3 as result.\n",
    "```"
   ]
  },
  {
   "cell_type": "code",
   "execution_count": 61,
   "id": "fe9edebf",
   "metadata": {},
   "outputs": [],
   "source": [
    "def evaluate_postfix(expression):\n",
    "    stack = []\n",
    "    for char in expression:\n",
    "        if char.isdigit():\n",
    "            stack.append(int(char))\n",
    "        else:\n",
    "            op2 = stack.pop()\n",
    "            op1 = stack.pop()\n",
    "            \n",
    "            if char =='+':\n",
    "                res = op1+op2\n",
    "            elif char == '-':\n",
    "                res = op1-op2\n",
    "            elif char == '*':\n",
    "                res = op1*op2\n",
    "            elif char == '/':\n",
    "                res = op1/op2\n",
    "            stack.append(res)\n",
    "    return stack.pop()\n",
    "\n"
   ]
  },
  {
   "cell_type": "code",
   "execution_count": 62,
   "id": "adc5f74b",
   "metadata": {},
   "outputs": [
    {
     "data": {
      "text/plain": [
       "-4"
      ]
     },
     "execution_count": 62,
     "metadata": {},
     "output_type": "execute_result"
    }
   ],
   "source": [
    "exp = '231*+9-'\n",
    "evaluate_postfix(exp)"
   ]
  },
  {
   "cell_type": "code",
   "execution_count": 63,
   "id": "2648a602",
   "metadata": {},
   "outputs": [
    {
     "data": {
      "text/plain": [
       "-3"
      ]
     },
     "execution_count": 63,
     "metadata": {},
     "output_type": "execute_result"
    }
   ],
   "source": [
    "evaluate_postfix(\"123+*8-\")"
   ]
  },
  {
   "cell_type": "markdown",
   "id": "223fe1cd",
   "metadata": {},
   "source": [
    "\n",
    "💡 **Question 7**\n",
    "\n",
    "Design a stack that supports push, pop, top, and retrieving the minimum element in constant time.\n",
    "\n",
    "Implement the `MinStack` class:\n",
    "\n",
    "- `MinStack()` initializes the stack object.\n",
    "- `void push(int val)` pushes the element `val` onto the stack.\n",
    "- `void pop()` removes the element on the top of the stack.\n",
    "- `int top()` gets the top element of the stack.\n",
    "- `int getMin()` retrieves the minimum element in the stack.\n",
    "\n",
    "You must implement a solution with `O(1)` time complexity for each function.\n",
    "\n",
    "**Example 1:**\n",
    "```\n",
    "Input\n",
    "[\"MinStack\",\"push\",\"push\",\"push\",\"getMin\",\"pop\",\"top\",\"getMin\"]\n",
    "[[],[-2],[0],[-3],[],[],[],[]]\n",
    "\n",
    "Output\n",
    "[null,null,null,null,-3,null,0,-2]\n",
    "\n",
    "Explanation\n",
    "MinStack minStack = new MinStack();\n",
    "minStack.push(-2);\n",
    "minStack.push(0);\n",
    "minStack.push(-3);\n",
    "minStack.getMin(); // return -3\n",
    "minStack.pop();\n",
    "minStack.top();    // return 0\n",
    "minStack.getMin(); // return -2\n",
    "```"
   ]
  },
  {
   "cell_type": "code",
   "execution_count": 85,
   "id": "e6e6b191",
   "metadata": {},
   "outputs": [],
   "source": [
    "class MinStack:\n",
    "    def __init__(self):\n",
    "        self.stack = []\n",
    "        self.min = float('inf')\n",
    "    def push(self,x):\n",
    "        if x<self.min:\n",
    "            self.min = x\n",
    "        self.stack.append(x)\n",
    "        \n",
    "    def pop(self):\n",
    "        self.stack.pop()\n",
    "        self.min = min(self.stack)    \n",
    "    def top(self):\n",
    "        return self.stack[-1]\n",
    "    \n",
    "    def getMin(self):\n",
    "        return self.min\n"
   ]
  },
  {
   "cell_type": "code",
   "execution_count": 86,
   "id": "7655dd9c",
   "metadata": {},
   "outputs": [],
   "source": [
    "minStack = MinStack()"
   ]
  },
  {
   "cell_type": "code",
   "execution_count": 87,
   "id": "135946d3",
   "metadata": {},
   "outputs": [
    {
     "data": {
      "text/plain": [
       "-3"
      ]
     },
     "execution_count": 87,
     "metadata": {},
     "output_type": "execute_result"
    }
   ],
   "source": [
    "minStack.push(-2)\n",
    "minStack.push(0)\n",
    "minStack.push(-3)\n",
    "minStack.getMin() "
   ]
  },
  {
   "cell_type": "code",
   "execution_count": 88,
   "id": "0e45d569",
   "metadata": {},
   "outputs": [
    {
     "data": {
      "text/plain": [
       "[-2, 0, -3]"
      ]
     },
     "execution_count": 88,
     "metadata": {},
     "output_type": "execute_result"
    }
   ],
   "source": [
    "minStack.stack"
   ]
  },
  {
   "cell_type": "code",
   "execution_count": 89,
   "id": "f3ee7139",
   "metadata": {},
   "outputs": [],
   "source": [
    "minStack.pop()"
   ]
  },
  {
   "cell_type": "code",
   "execution_count": 90,
   "id": "fdd904e3",
   "metadata": {},
   "outputs": [
    {
     "data": {
      "text/plain": [
       "[-2, 0]"
      ]
     },
     "execution_count": 90,
     "metadata": {},
     "output_type": "execute_result"
    }
   ],
   "source": [
    "minStack.stack"
   ]
  },
  {
   "cell_type": "code",
   "execution_count": 91,
   "id": "ded3c2c0",
   "metadata": {},
   "outputs": [
    {
     "data": {
      "text/plain": [
       "-2"
      ]
     },
     "execution_count": 91,
     "metadata": {},
     "output_type": "execute_result"
    }
   ],
   "source": [
    "minStack.min"
   ]
  }
 ],
 "metadata": {
  "kernelspec": {
   "display_name": "Python 3 (ipykernel)",
   "language": "python",
   "name": "python3"
  },
  "language_info": {
   "codemirror_mode": {
    "name": "ipython",
    "version": 3
   },
   "file_extension": ".py",
   "mimetype": "text/x-python",
   "name": "python",
   "nbconvert_exporter": "python",
   "pygments_lexer": "ipython3",
   "version": "3.9.12"
  }
 },
 "nbformat": 4,
 "nbformat_minor": 5
}
