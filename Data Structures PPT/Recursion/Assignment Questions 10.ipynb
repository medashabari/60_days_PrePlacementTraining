{
 "cells": [
  {
   "cell_type": "markdown",
   "id": "342a3715",
   "metadata": {},
   "source": [
    "\n",
    "💡 **Question 1**\n",
    "\n",
    "Given an integer `n`, return *`true` if it is a power of three. Otherwise, return `false`*.\n",
    "\n",
    "An integer `n` is a power of three, if there exists an integer `x` such that `n == 3x`.\n",
    "\n",
    "**Example 1:**\n",
    "\n",
    "```\n",
    "Input: n = 27\n",
    "Output: true\n",
    "Explanation: 27 = 33\n",
    "```\n",
    "\n",
    "**Example 2:**\n",
    "\n",
    "```\n",
    "Input: n = 0\n",
    "Output: false\n",
    "Explanation: There is no x where 3x = 0.\n",
    "\n",
    "```\n",
    "\n",
    "**Example 3:**\n",
    "```\n",
    "Input: n = -1\n",
    "Output: false\n",
    "Explanation: There is no x where 3x = (-1).\n",
    "```"
   ]
  },
  {
   "cell_type": "code",
   "execution_count": 2,
   "id": "dfa36c45",
   "metadata": {},
   "outputs": [],
   "source": [
    "def powerOfThree(n):\n",
    "    if n==1:\n",
    "        return True\n",
    "    elif n<=0 or n%3!=0:\n",
    "        return False\n",
    "    else:\n",
    "        return powerOfThree(n//3)"
   ]
  },
  {
   "cell_type": "code",
   "execution_count": 3,
   "id": "e28625f8",
   "metadata": {},
   "outputs": [
    {
     "data": {
      "text/plain": [
       "True"
      ]
     },
     "execution_count": 3,
     "metadata": {},
     "output_type": "execute_result"
    }
   ],
   "source": [
    "powerOfThree(27)"
   ]
  },
  {
   "cell_type": "code",
   "execution_count": 4,
   "id": "ac7967f6",
   "metadata": {},
   "outputs": [
    {
     "data": {
      "text/plain": [
       "False"
      ]
     },
     "execution_count": 4,
     "metadata": {},
     "output_type": "execute_result"
    }
   ],
   "source": [
    "powerOfThree(0)"
   ]
  },
  {
   "cell_type": "code",
   "execution_count": 5,
   "id": "ebe49c5a",
   "metadata": {},
   "outputs": [
    {
     "data": {
      "text/plain": [
       "False"
      ]
     },
     "execution_count": 5,
     "metadata": {},
     "output_type": "execute_result"
    }
   ],
   "source": [
    "powerOfThree(-1)"
   ]
  },
  {
   "cell_type": "markdown",
   "id": "d2e13506",
   "metadata": {},
   "source": [
    "\n",
    "💡 **Question 2**\n",
    "\n",
    "You have a list `arr` of all integers in the range `[1, n]` sorted in a strictly increasing order. Apply the following algorithm on `arr`:\n",
    "\n",
    "- Starting from left to right, remove the first number and every other number afterward until you reach the end of the list.\n",
    "- Repeat the previous step again, but this time from right to left, remove the rightmost number and every other number from the remaining numbers.\n",
    "- Keep repeating the steps again, alternating left to right and right to left, until a single number remains.\n",
    "\n",
    "Given the integer `n`, return *the last number that remains in* `arr`.\n",
    "\n",
    "**Example 1:**\n",
    "\n",
    "```\n",
    "Input: n = 9\n",
    "Output: 6\n",
    "Explanation:\n",
    "arr = [1, 2,3, 4,5, 6,7, 8,9]\n",
    "arr = [2,4, 6,8]\n",
    "arr = [2, 6]\n",
    "arr = [6]\n",
    "```\n",
    "**Example 2:**\n",
    "```\n",
    "Input: n = 1\n",
    "Output: 1\n",
    "```"
   ]
  },
  {
   "cell_type": "code",
   "execution_count": 15,
   "id": "07e9641b",
   "metadata": {},
   "outputs": [],
   "source": [
    "def remove_operations(arr):\n",
    "    while len(arr)!=1:\n",
    "        arr = remove_left_to_right(arr)\n",
    "        if len(arr)!=1:\n",
    "            arr = remove_right_to_left(arr)\n",
    "    return arr\n",
    "\n",
    "def remove_left_to_right(arr):\n",
    "    copy_arr = arr.copy()\n",
    "    \n",
    "    for i in range(0,len(arr),2):\n",
    "        copy_arr.remove(arr[i])\n",
    "    return copy_arr\n",
    "\n",
    "def remove_right_to_left(arr):\n",
    "    copy_arr = arr.copy()\n",
    "    \n",
    "    for i in range(len(arr)-1,-1,-2):\n",
    "        copy_arr.remove(arr[i])\n",
    "    return copy_arr"
   ]
  },
  {
   "cell_type": "code",
   "execution_count": 16,
   "id": "7edea5b0",
   "metadata": {},
   "outputs": [
    {
     "data": {
      "text/plain": [
       "[6]"
      ]
     },
     "execution_count": 16,
     "metadata": {},
     "output_type": "execute_result"
    }
   ],
   "source": [
    "remove_operations([1,2,3,4,5,6,7,8,9])"
   ]
  },
  {
   "cell_type": "code",
   "execution_count": 17,
   "id": "9ee7d702",
   "metadata": {},
   "outputs": [
    {
     "data": {
      "text/plain": [
       "[1]"
      ]
     },
     "execution_count": 17,
     "metadata": {},
     "output_type": "execute_result"
    }
   ],
   "source": [
    "remove_operations([1])"
   ]
  },
  {
   "cell_type": "markdown",
   "id": "ff598cb0",
   "metadata": {},
   "source": [
    "\n",
    "💡 **Question 3**\n",
    "\n",
    "**Given a set represented as a string, write a recursive code to print all subsets of it. The subsets can be printed in any order.**\n",
    "\n",
    "**Example 1:**\n",
    "\n",
    "Input :  set = “abc”\n",
    "\n",
    "Output : { “”, “a”, “b”, “c”, “ab”, “ac”, “bc”, “abc”}\n",
    "\n",
    "**Example 2:**\n",
    "\n",
    "Input : set = “abcd”\n",
    "\n",
    "Output : { “”, “a” ,”ab” ,”abc” ,”abcd”, “abd” ,”ac” ,”acd”, “ad” ,”b”, “bc” ,”bcd” ,”bd” ,”c” ,”cd” ,”d” }\n"
   ]
  },
  {
   "cell_type": "code",
   "execution_count": 20,
   "id": "e2611f96",
   "metadata": {},
   "outputs": [],
   "source": [
    "def printAllSubsets(arr,res,l,r,curr=[]):\n",
    "    if l>r:\n",
    "        res.append(\"\".join(curr.copy()))\n",
    "        return\n",
    "    # include element\n",
    "    curr.append(arr[l])\n",
    "    printAllSubsets(arr,res,l+1,r,curr.copy())\n",
    "    curr.pop()\n",
    "    printAllSubsets(arr,res,l+1,r,curr.copy())\n",
    "    \n",
    "s=\"abc\"\n",
    "res=[]\n",
    "printAllSubsets(s,res,0,len(s)-1,curr=list())"
   ]
  },
  {
   "cell_type": "code",
   "execution_count": 21,
   "id": "99551f79",
   "metadata": {},
   "outputs": [
    {
     "data": {
      "text/plain": [
       "['abc', 'ab', 'ac', 'a', 'bc', 'b', 'c', '']"
      ]
     },
     "execution_count": 21,
     "metadata": {},
     "output_type": "execute_result"
    }
   ],
   "source": [
    "res"
   ]
  },
  {
   "cell_type": "code",
   "execution_count": 22,
   "id": "bafe4c53",
   "metadata": {},
   "outputs": [
    {
     "data": {
      "text/plain": [
       "['abcd',\n",
       " 'abc',\n",
       " 'abd',\n",
       " 'ab',\n",
       " 'acd',\n",
       " 'ac',\n",
       " 'ad',\n",
       " 'a',\n",
       " 'bcd',\n",
       " 'bc',\n",
       " 'bd',\n",
       " 'b',\n",
       " 'cd',\n",
       " 'c',\n",
       " 'd',\n",
       " '']"
      ]
     },
     "execution_count": 22,
     "metadata": {},
     "output_type": "execute_result"
    }
   ],
   "source": [
    "s=\"abcd\"\n",
    "res=[]\n",
    "printAllSubsets(s,res,0,len(s)-1,curr=list())\n",
    "res"
   ]
  },
  {
   "cell_type": "markdown",
   "id": "816876fd",
   "metadata": {},
   "source": [
    "\n",
    "💡 **Question 4**\n",
    "\n",
    "Given a string calculate length of the string using recursion.\n",
    "\n",
    "**Examples:**\n",
    "\n",
    "```\n",
    "Input : str = \"abcd\"\n",
    "Output :4\n",
    "\n",
    "Input : str = \"GEEKSFORGEEKS\"\n",
    "Output :13\n",
    "```\n",
    "</aside>"
   ]
  },
  {
   "cell_type": "code",
   "execution_count": 1,
   "id": "2913152d",
   "metadata": {},
   "outputs": [],
   "source": [
    "def findLength(s):\n",
    "    if s == '':\n",
    "        return 0\n",
    "    return 1 + findLength(s[1:])"
   ]
  },
  {
   "cell_type": "code",
   "execution_count": 2,
   "id": "61efae3f",
   "metadata": {},
   "outputs": [
    {
     "data": {
      "text/plain": [
       "2"
      ]
     },
     "execution_count": 2,
     "metadata": {},
     "output_type": "execute_result"
    }
   ],
   "source": [
    "findLength('ab')"
   ]
  },
  {
   "cell_type": "code",
   "execution_count": 3,
   "id": "7db954cd",
   "metadata": {},
   "outputs": [
    {
     "data": {
      "text/plain": [
       "4"
      ]
     },
     "execution_count": 3,
     "metadata": {},
     "output_type": "execute_result"
    }
   ],
   "source": [
    "findLength('abcd')"
   ]
  },
  {
   "cell_type": "markdown",
   "id": "7294d494",
   "metadata": {},
   "source": [
    "\n",
    "💡 **Question 5**\n",
    "\n",
    "We are given a string S, we need to find count of all contiguous substrings starting and ending with same character.\n",
    "\n",
    "**Examples :**\n",
    "```\n",
    "Input  : S = \"abcab\"\n",
    "Output : 7\n",
    "There are 15 substrings of \"abcab\"\n",
    "a, ab, abc, abca, abcab, b, bc, bca\n",
    "bcab, c, ca, cab, a, ab, b\n",
    "Out of the above substrings, there\n",
    "are 7 substrings : a, abca, b, bcab,\n",
    "c, a and b.\n",
    "```\n",
    "```\n",
    "Input  : S = \"aba\"\n",
    "Output : 4\n",
    "The substrings are a, b, a and aba\n",
    "```"
   ]
  },
  {
   "cell_type": "code",
   "execution_count": 10,
   "id": "b2956d90",
   "metadata": {},
   "outputs": [],
   "source": [
    "def find_substrings_count(s):\n",
    "    substrings = [] \n",
    "    for i in range(len(s)):\n",
    "        for j in range(i+1,len(s)+1):\n",
    "            substrings.append(s[i:j])\n",
    "    count=0\n",
    "    for s in substrings:\n",
    "        if s[0]==s[-1]:\n",
    "            count+=1\n",
    "    return count\n",
    "\n"
   ]
  },
  {
   "cell_type": "code",
   "execution_count": 11,
   "id": "7db0920e",
   "metadata": {},
   "outputs": [
    {
     "data": {
      "text/plain": [
       "4"
      ]
     },
     "execution_count": 11,
     "metadata": {},
     "output_type": "execute_result"
    }
   ],
   "source": [
    "find_substrings_count(\"aba\")"
   ]
  },
  {
   "cell_type": "code",
   "execution_count": 12,
   "id": "30effe88",
   "metadata": {},
   "outputs": [
    {
     "data": {
      "text/plain": [
       "7"
      ]
     },
     "execution_count": 12,
     "metadata": {},
     "output_type": "execute_result"
    }
   ],
   "source": [
    "find_substrings_count(\"abcab\")"
   ]
  },
  {
   "cell_type": "markdown",
   "id": "461fd810",
   "metadata": {},
   "source": [
    "\n",
    "💡 **Question 6**\n",
    "\n",
    "The [tower of Hanoi](https://en.wikipedia.org/wiki/Tower_of_Hanoi) is a famous puzzle where we have three rods and **N** disks. The objective of the puzzle is to move the entire stack to another rod. You are given the number of discs **N**. Initially, these discs are in the rod 1. You need to print all the steps of discs movement so that all the discs reach the 3rd rod. Also, you need to find the total moves.**Note:** The discs are arranged such that the **top disc is numbered 1** and the **bottom-most disc is numbered N**. Also, all the discs have **different sizes** and a bigger disc **cannot** be put on the top of a smaller disc. Refer the provided link to get a better clarity about the puzzle.\n",
    "\n",
    "**Example 1:**\n",
    "\n",
    "```\n",
    "Input:\n",
    "N = 2\n",
    "Output:\n",
    "move disk 1 from rod 1 to rod 2\n",
    "move disk 2 from rod 1 to rod 3\n",
    "move disk 1 from rod 2 to rod 3\n",
    "3\n",
    "Explanation:For N=2 , steps will be\n",
    "as follows in the example and total\n",
    "3 steps will be taken.\n",
    "```"
   ]
  },
  {
   "cell_type": "code",
   "execution_count": 17,
   "id": "23a1c6f7",
   "metadata": {},
   "outputs": [],
   "source": [
    "def move_disk(disk,from_rod,to_rod):\n",
    "    print(f\"move disk {disk} from rod {from_rod} to rod {to_rod}\")\n",
    "    \n",
    "def towersOfHanoi(n,from_rod,to_rod,aux_rod):\n",
    "    if n==1:\n",
    "        move_disk(1,from_rod,to_rod)\n",
    "        return 1\n",
    "    else:\n",
    "        steps=0\n",
    "        steps+=towersOfHanoi(n-1,from_rod,aux_rod,to_rod)\n",
    "        move_disk(n,from_rod,to_rod)\n",
    "        steps+=1\n",
    "        steps+=towersOfHanoi(n-1,aux_rod,to_rod,from_rod)\n",
    "        return steps"
   ]
  },
  {
   "cell_type": "code",
   "execution_count": 18,
   "id": "6c1112e9",
   "metadata": {},
   "outputs": [
    {
     "name": "stdout",
     "output_type": "stream",
     "text": [
      "2\n",
      "move disk 1 from rod 1 to rod 2\n",
      "move disk 2 from rod 1 to rod 3\n",
      "move disk 1 from rod 2 to rod 3\n"
     ]
    },
    {
     "data": {
      "text/plain": [
       "3"
      ]
     },
     "execution_count": 18,
     "metadata": {},
     "output_type": "execute_result"
    }
   ],
   "source": [
    "towersOfHanoi(int(input()),'1','3','2')"
   ]
  },
  {
   "cell_type": "markdown",
   "id": "f6104a0a",
   "metadata": {},
   "source": [
    "<aside>\n",
    "💡 **Question 7**\n",
    "\n",
    "Given a string **str**, the task is to print all the permutations of **str**. A **permutation** is an arrangement of all or part of a set of objects, with regard to the order of the arrangement. For instance, the words ‘bat’ and ‘tab’ represents two distinct permutation (or arrangements) of a similar three letter word.\n",
    "\n",
    "**Examples:**\n",
    "\n",
    "> Input: str = “cd”\n",
    "> \n",
    "> \n",
    "> **Output:** cd dc\n",
    "> \n",
    "> **Input:** str = “abb”\n",
    "> \n",
    "> **Output:** abb abb bab bba bab bba\n",
    "> \n",
    "</aside>"
   ]
  },
  {
   "cell_type": "code",
   "execution_count": 22,
   "id": "31ff94a4",
   "metadata": {},
   "outputs": [],
   "source": [
    "from itertools import permutations\n",
    "\n",
    "def all_permutations(s):\n",
    "    return [\"\".join(i) for i in permutations(s)]"
   ]
  },
  {
   "cell_type": "code",
   "execution_count": 23,
   "id": "69b30044",
   "metadata": {},
   "outputs": [
    {
     "data": {
      "text/plain": [
       "['cd', 'dc']"
      ]
     },
     "execution_count": 23,
     "metadata": {},
     "output_type": "execute_result"
    }
   ],
   "source": [
    "all_permutations(\"cd\")"
   ]
  },
  {
   "cell_type": "code",
   "execution_count": 24,
   "id": "4570607c",
   "metadata": {},
   "outputs": [
    {
     "data": {
      "text/plain": [
       "['abb', 'abb', 'bab', 'bba', 'bab', 'bba']"
      ]
     },
     "execution_count": 24,
     "metadata": {},
     "output_type": "execute_result"
    }
   ],
   "source": [
    "all_permutations('abb')"
   ]
  },
  {
   "cell_type": "markdown",
   "id": "c8ef6538",
   "metadata": {},
   "source": [
    "\n",
    "💡 **Question 8**\n",
    "\n",
    "Given a string, count total number of consonants in it. A consonant is an English alphabet character that is not vowel (a, e, i, o and u). Examples of constants are b, c, d, f, and g.\n",
    "\n",
    "**Examples :**\n",
    "\n",
    "\n",
    "```\n",
    "Input : abc de\n",
    "Output : 3\n",
    "There are three consonants b, c and d.\n",
    "```\n",
    "```\n",
    "Input : geeksforgeeks portal\n",
    "Output : 12\n",
    "```\n"
   ]
  },
  {
   "cell_type": "code",
   "execution_count": 25,
   "id": "cef6cc74",
   "metadata": {},
   "outputs": [],
   "source": [
    "def count_consonants(s):\n",
    "    count = 0\n",
    "    for i in s:\n",
    "        if i not in ['a','e','i','o','u',' ']:\n",
    "            count+=1\n",
    "    return count"
   ]
  },
  {
   "cell_type": "code",
   "execution_count": 26,
   "id": "fec1bf75",
   "metadata": {},
   "outputs": [
    {
     "data": {
      "text/plain": [
       "3"
      ]
     },
     "execution_count": 26,
     "metadata": {},
     "output_type": "execute_result"
    }
   ],
   "source": [
    "count_consonants('abc de')"
   ]
  },
  {
   "cell_type": "code",
   "execution_count": 27,
   "id": "d09ed24b",
   "metadata": {},
   "outputs": [
    {
     "data": {
      "text/plain": [
       "12"
      ]
     },
     "execution_count": 27,
     "metadata": {},
     "output_type": "execute_result"
    }
   ],
   "source": [
    "count_consonants('geeksforgeeks portal')"
   ]
  }
 ],
 "metadata": {
  "kernelspec": {
   "display_name": "Python 3 (ipykernel)",
   "language": "python",
   "name": "python3"
  },
  "language_info": {
   "codemirror_mode": {
    "name": "ipython",
    "version": 3
   },
   "file_extension": ".py",
   "mimetype": "text/x-python",
   "name": "python",
   "nbconvert_exporter": "python",
   "pygments_lexer": "ipython3",
   "version": "3.9.12"
  }
 },
 "nbformat": 4,
 "nbformat_minor": 5
}
