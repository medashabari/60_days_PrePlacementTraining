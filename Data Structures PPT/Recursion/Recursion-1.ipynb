{
 "cells": [
  {
   "cell_type": "code",
   "execution_count": 2,
   "id": "b017c9e6",
   "metadata": {},
   "outputs": [
    {
     "name": "stdout",
     "output_type": "stream",
     "text": [
      "15\n"
     ]
    }
   ],
   "source": [
    "### Sum of n numbers \n",
    "\n",
    "def sumOfnumbers(n):\n",
    "    if n==1:\n",
    "        return 1\n",
    "    else:\n",
    "        return n+sumOfnumbers(n-1)\n",
    "        \n",
    "print(sumOfnumbers(5))"
   ]
  },
  {
   "cell_type": "code",
   "execution_count": 8,
   "id": "38d389f0",
   "metadata": {},
   "outputs": [
    {
     "name": "stdout",
     "output_type": "stream",
     "text": [
      "flog"
     ]
    }
   ],
   "source": [
    "## Reverse a string\n",
    "\n",
    "def reverse(i,s):\n",
    "    if i>=len(s) or len(s)==0:\n",
    "        return\n",
    "    else:\n",
    "        reverse(i+1,s)\n",
    "        print(s[i],end=\"\")\n",
    "\n",
    "reverse(0,\"golf\")"
   ]
  },
  {
   "cell_type": "code",
   "execution_count": 2,
   "id": "06cf491e",
   "metadata": {},
   "outputs": [
    {
     "data": {
      "text/plain": [
       "8"
      ]
     },
     "execution_count": 2,
     "metadata": {},
     "output_type": "execute_result"
    }
   ],
   "source": [
    "### gcd \n",
    "\n",
    "def gcd(a,b):\n",
    "    if b==0:\n",
    "        return a\n",
    "    else:\n",
    "        return gcd(b,a%b)\n",
    "\n",
    "gcd(24,16)"
   ]
  },
  {
   "cell_type": "code",
   "execution_count": 3,
   "id": "54813212",
   "metadata": {},
   "outputs": [],
   "source": [
    "def lcm(a,b):\n",
    "    return a*b//gcd(a,b)"
   ]
  },
  {
   "cell_type": "code",
   "execution_count": 5,
   "id": "bf28a9e2",
   "metadata": {},
   "outputs": [
    {
     "data": {
      "text/plain": [
       "216"
      ]
     },
     "execution_count": 5,
     "metadata": {},
     "output_type": "execute_result"
    }
   ],
   "source": [
    "lcm(54,24)"
   ]
  },
  {
   "cell_type": "code",
   "execution_count": 16,
   "id": "843b1c9a",
   "metadata": {},
   "outputs": [
    {
     "name": "stdout",
     "output_type": "stream",
     "text": [
      "1 2 3 4\n",
      "[10, 6, 7, 3, 8, 4, 5, 1, 9, 5, 6, 2, 7, 3, 4, 0]\n"
     ]
    }
   ],
   "source": [
    "from typing import List\n",
    "def sumsOfSubsets(arr:List[int],ans,l,r,sum=0):\n",
    "    if l>r:\n",
    "        ans.append(sum)\n",
    "        return \n",
    "    sumsOfSubsets(arr,ans,l+1, r, sum+arr[l])\n",
    "    sumsOfSubsets(arr,ans,l+1, r, sum)\n",
    "    \n",
    "arr = list(map(int,input().split()))\n",
    "ans = []\n",
    "\n",
    "sumsOfSubsets(arr,ans,0,len(arr)-1,sum=0)\n",
    "print(ans)"
   ]
  },
  {
   "cell_type": "code",
   "execution_count": 14,
   "id": "1be6b281",
   "metadata": {},
   "outputs": [
    {
     "data": {
      "text/plain": [
       "[6, 3, 4, 1, 5, 2, 3, 0]"
      ]
     },
     "execution_count": 14,
     "metadata": {},
     "output_type": "execute_result"
    }
   ],
   "source": [
    "ans"
   ]
  },
  {
   "cell_type": "code",
   "execution_count": 32,
   "id": "6359add6",
   "metadata": {},
   "outputs": [],
   "source": [
    "## generate all subsets\n",
    "\n",
    "def allsubset(arr,res,l,r,curr):\n",
    "    if l>r:\n",
    "        res.append(\"\".join(curr.copy()))\n",
    "        return\n",
    "    # subset include the element\n",
    "    curr.append(arr[l])\n",
    "    allsubset(arr,res,l+1,r,curr.copy())\n",
    "    \n",
    "    #subset exclude the element\n",
    "    curr.pop()\n",
    "    allsubset(arr,res,l+1,r,curr.copy())\n",
    "arr = \"abc\"\n",
    "res=[]\n",
    "allsubset(arr,res,0,len(arr)-1,curr=list())"
   ]
  },
  {
   "cell_type": "code",
   "execution_count": 33,
   "id": "45f7a514",
   "metadata": {},
   "outputs": [
    {
     "data": {
      "text/plain": [
       "['abc', 'ab', 'ac', 'a', 'bc', 'b', 'c', '']"
      ]
     },
     "execution_count": 33,
     "metadata": {},
     "output_type": "execute_result"
    }
   ],
   "source": [
    "res"
   ]
  },
  {
   "cell_type": "code",
   "execution_count": 22,
   "id": "b06ee842",
   "metadata": {},
   "outputs": [],
   "source": [
    "l=[]"
   ]
  },
  {
   "cell_type": "code",
   "execution_count": 23,
   "id": "6f76d801",
   "metadata": {},
   "outputs": [],
   "source": [
    "l.append(1)"
   ]
  },
  {
   "cell_type": "code",
   "execution_count": 24,
   "id": "23a4146e",
   "metadata": {},
   "outputs": [
    {
     "data": {
      "text/plain": [
       "[1]"
      ]
     },
     "execution_count": 24,
     "metadata": {},
     "output_type": "execute_result"
    }
   ],
   "source": [
    "l"
   ]
  },
  {
   "cell_type": "code",
   "execution_count": 34,
   "id": "a381b73a",
   "metadata": {},
   "outputs": [
    {
     "name": "stdout",
     "output_type": "stream",
     "text": [
      "[[], [3], [2], [2, 3], [1], [1, 3], [1, 2], [1, 2, 3]]\n"
     ]
    }
   ],
   "source": [
    "def allsubset(arr, res, l, r, curr):\n",
    "    if l > r:\n",
    "        res.append(curr.copy())\n",
    "        return\n",
    "    allsubset(arr, res, l + 1, r, curr.copy())  # Exclude the current element\n",
    "    curr.append(arr[l])\n",
    "    allsubset(arr, res, l + 1, r, curr.copy())  # Include the current element\n",
    "\n",
    "arr = [1, 2, 3]\n",
    "res = []\n",
    "allsubset(arr, res, 0, len(arr) - 1, curr=[])\n",
    "print(res)\n",
    "\n"
   ]
  },
  {
   "cell_type": "code",
   "execution_count": 35,
   "id": "91e74586",
   "metadata": {},
   "outputs": [
    {
     "name": "stdout",
     "output_type": "stream",
     "text": [
      "[[], ['c'], ['b'], ['b', 'c'], ['a'], ['a', 'c'], ['a', 'b'], ['a', 'b', 'c']]\n"
     ]
    }
   ],
   "source": [
    "arr = ['a','b','c']\n",
    "res = []\n",
    "allsubset(arr, res, 0, len(arr) - 1, curr=[])\n",
    "print(res)"
   ]
  },
  {
   "cell_type": "code",
   "execution_count": null,
   "id": "10f7a88e",
   "metadata": {},
   "outputs": [],
   "source": []
  }
 ],
 "metadata": {
  "kernelspec": {
   "display_name": "Python 3 (ipykernel)",
   "language": "python",
   "name": "python3"
  },
  "language_info": {
   "codemirror_mode": {
    "name": "ipython",
    "version": 3
   },
   "file_extension": ".py",
   "mimetype": "text/x-python",
   "name": "python",
   "nbconvert_exporter": "python",
   "pygments_lexer": "ipython3",
   "version": "3.9.12"
  }
 },
 "nbformat": 4,
 "nbformat_minor": 5
}
