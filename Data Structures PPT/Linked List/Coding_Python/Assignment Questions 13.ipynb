{
 "cells": [
  {
   "cell_type": "markdown",
   "id": "99e85e77",
   "metadata": {},
   "source": [
    "\n",
    "💡 **Question 1**\n",
    "\n",
    "Given two linked list of the same size, the task is to create a new linked list using those linked lists. The condition is that the greater node among both linked list will be added to the new linked list.\n",
    "\n",
    "**Examples:**\n",
    "\n",
    "```\n",
    "Input: list1 = 5->2->3->8\n",
    "list2 = 1->7->4->5\n",
    "Output: New list = 5->7->4->8\n",
    "\n",
    "Input:list1 = 2->8->9->3\n",
    "list2 = 5->3->6->4\n",
    "Output: New list = 5->8->9->4\n",
    "```"
   ]
  },
  {
   "cell_type": "code",
   "execution_count": 1,
   "id": "2e9ef1ec",
   "metadata": {},
   "outputs": [],
   "source": [
    "class Node:\n",
    "    def __init__(self,data,next=None):\n",
    "        self.data=data\n",
    "        self.next=next\n",
    "class LinkedList:\n",
    "    def __init__(self):\n",
    "        self.head=None\n",
    "    \n",
    "    def insert(self,data):\n",
    "        newNode = Node(data)\n",
    "        if self.head == None:\n",
    "            self.head = newNode\n",
    "            return\n",
    "        curr = self.head\n",
    "        while curr.next!=None:\n",
    "            curr = curr.next\n",
    "        curr.next = newNode\n",
    "    \n",
    "def printNodes(head):\n",
    "    if head == None:\n",
    "        return \"Empty linked list\"\n",
    "    curr = head\n",
    "    while curr:\n",
    "        print(curr.data,end=\"->\")\n",
    "        curr = curr.next"
   ]
  },
  {
   "cell_type": "code",
   "execution_count": 7,
   "id": "3df35b98",
   "metadata": {},
   "outputs": [],
   "source": [
    "def modify(first,second):\n",
    "    if not first or not second:\n",
    "        return first or second\n",
    "    new = LinkedList()\n",
    "    \n",
    "    curr1 = first\n",
    "    curr2 = second\n",
    "    \n",
    "    while curr1 and curr2:\n",
    "        if curr1.data >= curr2.data:\n",
    "            new.insert(curr1.data)\n",
    "        else:\n",
    "            new.insert(curr2.data)\n",
    "        curr1 = curr1.next\n",
    "        curr2 = curr2.next\n",
    "    return new\n",
    "    "
   ]
  },
  {
   "cell_type": "code",
   "execution_count": 8,
   "id": "fa7451b4",
   "metadata": {},
   "outputs": [
    {
     "name": "stdout",
     "output_type": "stream",
     "text": [
      "5->2->3->8->"
     ]
    }
   ],
   "source": [
    "l1 = LinkedList()\n",
    "for i in [5,2,3,8]:\n",
    "    l1.insert(i)\n",
    "printNodes(l1.head)"
   ]
  },
  {
   "cell_type": "code",
   "execution_count": 9,
   "id": "9f72ec95",
   "metadata": {},
   "outputs": [
    {
     "name": "stdout",
     "output_type": "stream",
     "text": [
      "1->7->4->8->"
     ]
    }
   ],
   "source": [
    "l2 = LinkedList()\n",
    "for i in [1,7,4,8]:\n",
    "    l2.insert(i)\n",
    "printNodes(l2.head)"
   ]
  },
  {
   "cell_type": "code",
   "execution_count": 11,
   "id": "27f79a18",
   "metadata": {},
   "outputs": [],
   "source": [
    "new = modify(l1.head,l2.head)"
   ]
  },
  {
   "cell_type": "code",
   "execution_count": 12,
   "id": "302a5fbd",
   "metadata": {},
   "outputs": [
    {
     "name": "stdout",
     "output_type": "stream",
     "text": [
      "5->7->4->8->"
     ]
    }
   ],
   "source": [
    "printNodes(new.head)"
   ]
  },
  {
   "cell_type": "markdown",
   "id": "17c07e1a",
   "metadata": {},
   "source": [
    "💡 **Question 2**\n",
    "\n",
    "Write a function that takes a list sorted in non-decreasing order and deletes any duplicate nodes from the list. The list should only be traversed once.\n",
    "\n",
    "For example if the linked list is 11->11->11->21->43->43->60 then removeDuplicates() should convert the list to 11->21->43->60.\n",
    "\n",
    "**Example 1:**\n",
    "\n",
    "```\n",
    "Input:\n",
    "LinkedList: \n",
    "11->11->11->21->43->43->60\n",
    "Output:\n",
    "11->21->43->60\n",
    "```\n",
    "\n",
    "**Example 2:**\n",
    "\n",
    "```\n",
    "Input:\n",
    "LinkedList: \n",
    "10->12->12->25->25->25->34\n",
    "Output:\n",
    "10->12->25->34\n",
    "```"
   ]
  },
  {
   "cell_type": "code",
   "execution_count": 20,
   "id": "ae29975d",
   "metadata": {},
   "outputs": [],
   "source": [
    "def removeDuplicates(head):\n",
    "    if not head:\n",
    "        return head\n",
    "    temp = []\n",
    "    curr = head\n",
    "    prev = None\n",
    "    while curr:\n",
    "        if curr.data not in temp:\n",
    "            temp.append(curr.data)\n",
    "            prev = curr\n",
    "            curr = curr.next\n",
    "        else:\n",
    "            prev.next = curr.next\n",
    "            curr = prev.next\n",
    "    return head\n",
    "    "
   ]
  },
  {
   "cell_type": "code",
   "execution_count": 15,
   "id": "778aedce",
   "metadata": {},
   "outputs": [
    {
     "name": "stdout",
     "output_type": "stream",
     "text": [
      "11->11->11->21->43->60->"
     ]
    }
   ],
   "source": [
    "ll = LinkedList()\n",
    "for i in [11,11,11,21,43,60]:\n",
    "    ll.insert(i)\n",
    "printNodes(ll.head)"
   ]
  },
  {
   "cell_type": "code",
   "execution_count": 21,
   "id": "26c3e494",
   "metadata": {},
   "outputs": [
    {
     "name": "stdout",
     "output_type": "stream",
     "text": [
      "11->21->43->60->"
     ]
    }
   ],
   "source": [
    "printNodes(removeDuplicates(ll.head))"
   ]
  },
  {
   "cell_type": "markdown",
   "id": "9b7c9c9f",
   "metadata": {},
   "source": [
    "\n",
    "💡 **Question 3**\n",
    "\n",
    "Given a linked list of size **N**. The task is to reverse every **k** nodes (where k is an input to the function) in the linked list. If the number of nodes is not a multiple of *k* then left-out nodes, in the end, should be considered as a group and must be reversed (See Example 2 for clarification).\n",
    "\n",
    "**Example 1:**\n",
    "\n",
    "```\n",
    "Input:\n",
    "LinkedList: 1->2->2->4->5->6->7->8\n",
    "K = 4\n",
    "Output:4 2 2 1 8 7 6 5\n",
    "Explanation:\n",
    "The first 4 elements 1,2,2,4 are reversed first\n",
    "and then the next 4 elements 5,6,7,8. Hence, the\n",
    "resultant linked list is 4->2->2->1->8->7->6->5.\n",
    "\n",
    "```\n",
    "\n",
    "**Example 2:**\n",
    "```\n",
    "Input:\n",
    "LinkedList: 1->2->3->4->5\n",
    "K = 3\n",
    "Output:3 2 1 5 4\n",
    "Explanation:\n",
    "The first 3 elements are 1,2,3 are reversed\n",
    "first and then elements 4,5 are reversed.Hence,\n",
    "the resultant linked list is 3->2->1->5->4.\n",
    "```"
   ]
  },
  {
   "cell_type": "code",
   "execution_count": 22,
   "id": "0979bf00",
   "metadata": {},
   "outputs": [],
   "source": [
    "def reverseKNodes(head, k):\n",
    "    current = head\n",
    "    prev = None\n",
    "    temp = None\n",
    "    count = 0\n",
    "\n",
    "    # Reverse first k nodes\n",
    "    while current is not None and count < k:\n",
    "        temp = current.next\n",
    "        current.next = prev\n",
    "        prev = current\n",
    "        current = temp\n",
    "        count += 1\n",
    "    # Update the links for the next group\n",
    "    if temp is not None:\n",
    "        head.next = reverseKNodes(temp, k)\n",
    "\n",
    "    return prev"
   ]
  },
  {
   "cell_type": "code",
   "execution_count": 23,
   "id": "24976136",
   "metadata": {},
   "outputs": [
    {
     "name": "stdout",
     "output_type": "stream",
     "text": [
      "1->2->3->4->5->6->7->8->"
     ]
    }
   ],
   "source": [
    "ll = LinkedList()\n",
    "for i in range(1,9):\n",
    "    ll.insert(i)\n",
    "printNodes(ll.head)"
   ]
  },
  {
   "cell_type": "code",
   "execution_count": 24,
   "id": "23f5b803",
   "metadata": {},
   "outputs": [
    {
     "name": "stdout",
     "output_type": "stream",
     "text": [
      "4->3->2->1->8->7->6->5->"
     ]
    }
   ],
   "source": [
    "printNodes(reverseKNodes(ll.head,4))"
   ]
  },
  {
   "cell_type": "markdown",
   "id": "c5055c29",
   "metadata": {},
   "source": [
    "\n",
    "💡 **Question 4**\n",
    "\n",
    "Given a linked list, write a function to reverse every alternate k nodes (where k is an input to the function) in an efficient way. Give the complexity of your algorithm.\n",
    "\n",
    "**Example:**\n",
    "```\n",
    "Inputs:   1->2->3->4->5->6->7->8->9->NULL and k = 3\n",
    "Output:   3->2->1->4->5->6->9->8->7->NULL.\n",
    "```"
   ]
  },
  {
   "cell_type": "code",
   "execution_count": 7,
   "id": "93d0e9d8",
   "metadata": {},
   "outputs": [],
   "source": [
    "def reverseAlternateKNodes(head, k):\n",
    "    if not head or k <= 1:\n",
    "        return head\n",
    "\n",
    "    current = head\n",
    "    prev = None\n",
    "    next = None\n",
    "    count = 0\n",
    "    while current and count < k:\n",
    "        next = current.next\n",
    "        current.next = prev\n",
    "        prev = current\n",
    "        current = next\n",
    "        count += 1\n",
    "    if head:\n",
    "        head.next = current\n",
    "    count = 0\n",
    "    while current and count < k - 1:\n",
    "        current = current.next\n",
    "        count += 1\n",
    "    if current:\n",
    "        current.next = reverseAlternateKNodes(current.next, k)\n",
    "\n",
    "    return prev"
   ]
  },
  {
   "cell_type": "code",
   "execution_count": 8,
   "id": "5bdb9ece",
   "metadata": {},
   "outputs": [
    {
     "name": "stdout",
     "output_type": "stream",
     "text": [
      "1->2->3->4->5->6->7->8->9->"
     ]
    }
   ],
   "source": [
    "ll = LinkedList()\n",
    "for i in range(1,10):\n",
    "    ll.insert(i)\n",
    "printNodes(ll.head)"
   ]
  },
  {
   "cell_type": "code",
   "execution_count": 9,
   "id": "b035b9ec",
   "metadata": {},
   "outputs": [],
   "source": [
    "a = reverseAlternateKNodes(ll.head,3)"
   ]
  },
  {
   "cell_type": "code",
   "execution_count": 10,
   "id": "9d56b6d9",
   "metadata": {},
   "outputs": [
    {
     "name": "stdout",
     "output_type": "stream",
     "text": [
      "3->2->1->4->5->6->9->8->7->"
     ]
    }
   ],
   "source": [
    "printNodes(a)"
   ]
  },
  {
   "cell_type": "markdown",
   "id": "ecf641c5",
   "metadata": {},
   "source": [
    "\n",
    "💡 **Question 5**\n",
    "\n",
    "Given a linked list and a key to be deleted. Delete last occurrence of key from linked. The list may have duplicates.\n",
    "\n",
    "**Examples**:\n",
    "```\n",
    "Input:   1->2->3->5->2->10, key = 2\n",
    "Output:  1->2->3->5->10\n",
    "```"
   ]
  },
  {
   "cell_type": "code",
   "execution_count": 34,
   "id": "e8a6c695",
   "metadata": {},
   "outputs": [],
   "source": [
    "def deleteLastOccurrence(head, key):\n",
    "    if not head:\n",
    "        return head\n",
    "\n",
    "    prev = None\n",
    "    last = None\n",
    "    curr = head\n",
    "    while curr:\n",
    "        if curr.data == key:\n",
    "            last = curr\n",
    "        curr = curr.next\n",
    "    if not last:\n",
    "        return head\n",
    "    curr = head\n",
    "    while curr and curr.next != last:\n",
    "        prev = curr\n",
    "        curr = curr.next\n",
    "\n",
    "    if prev:\n",
    "        prev.next.next = last.next\n",
    "    else:\n",
    "        head = head.next\n",
    "    return head\n"
   ]
  },
  {
   "cell_type": "code",
   "execution_count": 39,
   "id": "874421fc",
   "metadata": {},
   "outputs": [
    {
     "name": "stdout",
     "output_type": "stream",
     "text": [
      "1->2->3->5->2->10->"
     ]
    }
   ],
   "source": [
    "ll = LinkedList()\n",
    "for i in [1,2,3,5,2,10]:\n",
    "    ll.insert(i)\n",
    "printNodes(ll.head)"
   ]
  },
  {
   "cell_type": "code",
   "execution_count": 40,
   "id": "35375f58",
   "metadata": {},
   "outputs": [
    {
     "name": "stdout",
     "output_type": "stream",
     "text": [
      "1->2->3->5->10->"
     ]
    }
   ],
   "source": [
    "printNodes(deleteLastOccurrence(ll.head,2))"
   ]
  },
  {
   "cell_type": "markdown",
   "id": "85c587f0",
   "metadata": {},
   "source": [
    "\n",
    "💡 **Question 6**\n",
    "\n",
    "Given two sorted linked lists consisting of **N** and **M** nodes respectively. The task is to merge both of the lists (in place) and return the head of the merged list.\n",
    "\n",
    "**Examples:**\n",
    "\n",
    "Input: a: 5->10->15, b: 2->3->20\n",
    "\n",
    "Output: 2->3->5->10->15->20\n",
    "\n",
    "Input: a: 1->1, b: 2->4\n",
    "\n",
    "Output: 1->1->2->4\n",
    "\n"
   ]
  },
  {
   "cell_type": "code",
   "execution_count": 41,
   "id": "32249f4f",
   "metadata": {},
   "outputs": [],
   "source": [
    "def mergeSortedLists(a, b):\n",
    "    if not a:\n",
    "        return b\n",
    "    if not b:\n",
    "        return a\n",
    "    if a.data <= b.data:\n",
    "        head = a\n",
    "        a = a.next\n",
    "    else:\n",
    "        head = b\n",
    "        b = b.next\n",
    "    current = head\n",
    "    while a and b:\n",
    "        if a.data <= b.data:\n",
    "            current.next = a\n",
    "            a = a.next\n",
    "        else:\n",
    "            current.next = b\n",
    "            b = b.next\n",
    "        current = current.next\n",
    "    if a:\n",
    "        current.next = a\n",
    "    if b:\n",
    "        current.next = b\n",
    "    return head"
   ]
  },
  {
   "cell_type": "code",
   "execution_count": 45,
   "id": "70754b40",
   "metadata": {},
   "outputs": [
    {
     "name": "stdout",
     "output_type": "stream",
     "text": [
      "5->10->15->\n",
      "2->3->20->"
     ]
    }
   ],
   "source": [
    "l1= LinkedList()\n",
    "l2 = LinkedList()\n",
    "for i in [5,10,15]:\n",
    "    l1.insert(i)\n",
    "    \n",
    "for i in [2,3,20]:\n",
    "    l2.insert(i)\n",
    "\n",
    "printNodes(l1.head)\n",
    "print()\n",
    "printNodes(l2.head)"
   ]
  },
  {
   "cell_type": "code",
   "execution_count": 46,
   "id": "6da05c43",
   "metadata": {},
   "outputs": [
    {
     "name": "stdout",
     "output_type": "stream",
     "text": [
      "2->3->5->10->15->20->"
     ]
    }
   ],
   "source": [
    "printNodes(mergeSortedLists(l1.head,l2.head))"
   ]
  },
  {
   "cell_type": "markdown",
   "id": "a0f6f204",
   "metadata": {},
   "source": [
    "\n",
    "💡 **Question 7**\n",
    "\n",
    "Given a **Doubly Linked List**, the task is to reverse the given Doubly Linked List.\n",
    "\n",
    "**Example:**\n",
    "Original Linked list 10 8 4 2\n",
    "Reversed Linked list 2 4 8 10"
   ]
  },
  {
   "cell_type": "code",
   "execution_count": 47,
   "id": "3befee1a",
   "metadata": {},
   "outputs": [],
   "source": [
    "def reverseDoublyLinkedList(head):\n",
    "    if not head or not head.next:\n",
    "        return head\n",
    "    curr = head\n",
    "    prev = None\n",
    "    while curr:\n",
    "        next_node = curr.next\n",
    "        curr.next = prev\n",
    "        curr.prev = next_node\n",
    "        prev = curr\n",
    "        curr = next_node\n",
    "    head = prev\n",
    "    return head"
   ]
  },
  {
   "cell_type": "markdown",
   "id": "9f2058cb",
   "metadata": {},
   "source": [
    "💡 **Question 8**\n",
    "\n",
    "Given a doubly linked list and a position. The task is to delete a node from given position in a doubly linked list.\n",
    "\n",
    "**Example 1:**\n",
    "\n",
    "```\n",
    "Input:\n",
    "LinkedList = 1 <--> 3 <--> 4\n",
    "x = 3\n",
    "Output:1 3\n",
    "Explanation:After deleting the node at\n",
    "position 3 (position starts from 1),\n",
    "the linked list will be now as 1->3.\n",
    "\n",
    "```\n",
    "\n",
    "**Example 2:**\n",
    "\n",
    "```\n",
    "Input:\n",
    "LinkedList = 1 <--> 5 <--> 2 <--> 9\n",
    "x = 1\n",
    "Output:5 2 9\n",
    "```"
   ]
  },
  {
   "cell_type": "code",
   "execution_count": null,
   "id": "02b95540",
   "metadata": {},
   "outputs": [],
   "source": []
  }
 ],
 "metadata": {
  "kernelspec": {
   "display_name": "Python 3 (ipykernel)",
   "language": "python",
   "name": "python3"
  },
  "language_info": {
   "codemirror_mode": {
    "name": "ipython",
    "version": 3
   },
   "file_extension": ".py",
   "mimetype": "text/x-python",
   "name": "python",
   "nbconvert_exporter": "python",
   "pygments_lexer": "ipython3",
   "version": "3.9.12"
  }
 },
 "nbformat": 4,
 "nbformat_minor": 5
}
