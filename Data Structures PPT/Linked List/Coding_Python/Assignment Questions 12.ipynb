{
 "cells": [
  {
   "cell_type": "markdown",
   "id": "d3b4ba70",
   "metadata": {},
   "source": [
    "\n",
    "💡 **Question 1**\n",
    "\n",
    "Given a singly linked list, delete **middle** of the linked list. For example, if given linked list is 1->2->**3**->4->5 then linked list should be modified to 1->2->4->5.If there are **even** nodes, then there would be **two middle** nodes, we need to delete the second middle element. For example, if given linked list is 1->2->3->4->5->6 then it should be modified to 1->2->3->5->6.If the input linked list is NULL or has 1 node, then it should return NULL\n",
    "\n",
    "**Example 1:**\n",
    "\n",
    "```\n",
    "Input:\n",
    "LinkedList: 1->2->3->4->5\n",
    "Output:1 2 4 5\n",
    "\n",
    "```\n",
    "\n",
    "**Example 2:**\n",
    "\n",
    "```\n",
    "Input:\n",
    "LinkedList: 2->4->6->7->5->1\n",
    "Output:2 4 6 5 1\n",
    "```"
   ]
  },
  {
   "cell_type": "code",
   "execution_count": 38,
   "id": "12db6362",
   "metadata": {},
   "outputs": [],
   "source": [
    "class Listnode:\n",
    "    def __init__(self,data):\n",
    "        self.data = data\n",
    "        self.next = None\n",
    "class LinkedList:\n",
    "    def __init__(self):\n",
    "        self.head=None\n",
    "    \n",
    "    def insert(self,data):\n",
    "        newNode = Listnode(data)\n",
    "        if self.head == None:\n",
    "            self.head = newNode\n",
    "            return\n",
    "        curr = self.head\n",
    "        while curr.next!=None:\n",
    "            curr = curr.next\n",
    "        curr.next = newNode\n",
    "    \n",
    "    def printNodes(self):\n",
    "        if self.head == None:\n",
    "            return \"Empty linked list\"\n",
    "        curr = self.head\n",
    "        while curr:\n",
    "            print(curr.data,end=\"->\")\n",
    "            curr = curr.next\n",
    "            \n",
    "    def deleteMiddleNode(self):\n",
    "        if not self.head:\n",
    "            return head\n",
    "        if not self.head.next:\n",
    "            return None\n",
    "        slow_ptr = self.head\n",
    "        fast_ptr = self.head\n",
    "        prev = None\n",
    "        while fast_ptr!= None and fast_ptr.next!=None:\n",
    "            prev = slow_ptr\n",
    "            # slow pointer moves one step at a time 1X speed\n",
    "            slow_ptr = slow_ptr.next\n",
    "            #fast pointer moves two steps at a time 2X speed\n",
    "            fast_ptr = fast_ptr.next.next\n",
    "        if prev:\n",
    "            prev.next = slow_ptr.next\n",
    "        self.printNodes()"
   ]
  },
  {
   "cell_type": "code",
   "execution_count": 45,
   "id": "fcb18b6c",
   "metadata": {},
   "outputs": [
    {
     "name": "stdout",
     "output_type": "stream",
     "text": [
      "1->2->3->4->5->\n",
      "1->2->4->5->"
     ]
    }
   ],
   "source": [
    "# odd nodes\n",
    "nums = [1,2,3,4,5]\n",
    "ll = LinkedList()\n",
    "for i in nums:\n",
    "    ll.insert(i)\n",
    "ll.printNodes()\n",
    "print()\n",
    "ll.deleteMiddleNode()"
   ]
  },
  {
   "cell_type": "code",
   "execution_count": 46,
   "id": "b6c8bfc8",
   "metadata": {},
   "outputs": [
    {
     "name": "stdout",
     "output_type": "stream",
     "text": [
      "1->2->3->4->5->6->\n",
      "1->2->3->5->6->"
     ]
    }
   ],
   "source": [
    "# even nodes\n",
    "nums = [1,2,3,4,5,6]\n",
    "l2 = LinkedList()\n",
    "for i in nums:\n",
    "    l2.insert(i)\n",
    "l2.printNodes()\n",
    "print()\n",
    "l2.deleteMiddleNode()"
   ]
  },
  {
   "cell_type": "markdown",
   "id": "b0ae17bc",
   "metadata": {},
   "source": [
    "💡 **Question 2**\n",
    "\n",
    "Given a linked list of **N** nodes. The task is to check if the linked list has a loop. Linked list can contain self loop.\n",
    "\n",
    "**Example 1:**\n",
    "\n",
    "```\n",
    "Input:\n",
    "N = 3\n",
    "value[] = {1,3,4}\n",
    "x(position at which tail is connected) = 2\n",
    "Output:True\n",
    "Explanation:In above test case N = 3.\n",
    "The linked list with nodes N = 3 is\n",
    "given. Then value of x=2 is given which\n",
    "means last node is connected with xth\n",
    "node of linked list. Therefore, there\n",
    "exists a loop.\n",
    "```\n",
    "\n",
    "**Example 2:**\n",
    "```\n",
    "Input:\n",
    "N = 4\n",
    "value[] = {1,8,3,4}\n",
    "x = 0\n",
    "Output:False\n",
    "Explanation:For N = 4 ,x = 0 means\n",
    "then lastNode->next = NULL, then\n",
    "the Linked list does not contains\n",
    "any loop.\n",
    "```\n"
   ]
  },
  {
   "cell_type": "code",
   "execution_count": null,
   "id": "ee96020d",
   "metadata": {},
   "outputs": [],
   "source": []
  }
 ],
 "metadata": {
  "kernelspec": {
   "display_name": "Python 3 (ipykernel)",
   "language": "python",
   "name": "python3"
  },
  "language_info": {
   "codemirror_mode": {
    "name": "ipython",
    "version": 3
   },
   "file_extension": ".py",
   "mimetype": "text/x-python",
   "name": "python",
   "nbconvert_exporter": "python",
   "pygments_lexer": "ipython3",
   "version": "3.9.12"
  }
 },
 "nbformat": 4,
 "nbformat_minor": 5
}
